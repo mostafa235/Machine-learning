{
 "cells": [
  {
   "cell_type": "code",
   "execution_count": 84,
   "id": "4604d6c2",
   "metadata": {},
   "outputs": [],
   "source": [
    "import numpy as np\n",
    "import pandas as pd\n",
    "import matplotlib.pyplot as plt\n",
    "import seaborn as sns"
   ]
  },
  {
   "cell_type": "code",
   "execution_count": 85,
   "id": "f9e3c0fb",
   "metadata": {},
   "outputs": [],
   "source": [
    "df = pd.read_csv('C:/Users/Abdelrahman/Documents/Machine Learning/linear regression/08-Linear-Regression-Models/Advertising.csv')"
   ]
  },
  {
   "cell_type": "code",
   "execution_count": 86,
   "id": "8416e883",
   "metadata": {},
   "outputs": [
    {
     "data": {
      "text/html": [
       "<div>\n",
       "<style scoped>\n",
       "    .dataframe tbody tr th:only-of-type {\n",
       "        vertical-align: middle;\n",
       "    }\n",
       "\n",
       "    .dataframe tbody tr th {\n",
       "        vertical-align: top;\n",
       "    }\n",
       "\n",
       "    .dataframe thead th {\n",
       "        text-align: right;\n",
       "    }\n",
       "</style>\n",
       "<table border=\"1\" class=\"dataframe\">\n",
       "  <thead>\n",
       "    <tr style=\"text-align: right;\">\n",
       "      <th></th>\n",
       "      <th>TV</th>\n",
       "      <th>radio</th>\n",
       "      <th>newspaper</th>\n",
       "      <th>sales</th>\n",
       "    </tr>\n",
       "  </thead>\n",
       "  <tbody>\n",
       "    <tr>\n",
       "      <th>0</th>\n",
       "      <td>230.1</td>\n",
       "      <td>37.8</td>\n",
       "      <td>69.2</td>\n",
       "      <td>22.1</td>\n",
       "    </tr>\n",
       "    <tr>\n",
       "      <th>1</th>\n",
       "      <td>44.5</td>\n",
       "      <td>39.3</td>\n",
       "      <td>45.1</td>\n",
       "      <td>10.4</td>\n",
       "    </tr>\n",
       "    <tr>\n",
       "      <th>2</th>\n",
       "      <td>17.2</td>\n",
       "      <td>45.9</td>\n",
       "      <td>69.3</td>\n",
       "      <td>9.3</td>\n",
       "    </tr>\n",
       "    <tr>\n",
       "      <th>3</th>\n",
       "      <td>151.5</td>\n",
       "      <td>41.3</td>\n",
       "      <td>58.5</td>\n",
       "      <td>18.5</td>\n",
       "    </tr>\n",
       "    <tr>\n",
       "      <th>4</th>\n",
       "      <td>180.8</td>\n",
       "      <td>10.8</td>\n",
       "      <td>58.4</td>\n",
       "      <td>12.9</td>\n",
       "    </tr>\n",
       "  </tbody>\n",
       "</table>\n",
       "</div>"
      ],
      "text/plain": [
       "      TV  radio  newspaper  sales\n",
       "0  230.1   37.8       69.2   22.1\n",
       "1   44.5   39.3       45.1   10.4\n",
       "2   17.2   45.9       69.3    9.3\n",
       "3  151.5   41.3       58.5   18.5\n",
       "4  180.8   10.8       58.4   12.9"
      ]
     },
     "execution_count": 86,
     "metadata": {},
     "output_type": "execute_result"
    }
   ],
   "source": [
    "df.head()"
   ]
  },
  {
   "cell_type": "code",
   "execution_count": 87,
   "id": "f1f93882",
   "metadata": {},
   "outputs": [],
   "source": [
    "x = df.drop('sales',axis=1)\n",
    "y = df['sales']"
   ]
  },
  {
   "cell_type": "code",
   "execution_count": 88,
   "id": "ecd7161a",
   "metadata": {},
   "outputs": [],
   "source": [
    "from sklearn.model_selection import train_test_split"
   ]
  },
  {
   "cell_type": "code",
   "execution_count": 89,
   "id": "996048a0",
   "metadata": {},
   "outputs": [],
   "source": [
    "x_train , x_other , y_train , y_other = train_test_split(x,y , test_size=0.3 , random_state=101)"
   ]
  },
  {
   "cell_type": "code",
   "execution_count": 90,
   "id": "80bf53ef",
   "metadata": {},
   "outputs": [],
   "source": [
    "x_eval , x_test , y_eval , y_test = train_test_split(x_other,y_other,test_size = 0.5 , random_state=101)"
   ]
  },
  {
   "cell_type": "code",
   "execution_count": 91,
   "id": "16ac223b",
   "metadata": {},
   "outputs": [],
   "source": [
    "from sklearn.preprocessing import StandardScaler"
   ]
  },
  {
   "cell_type": "code",
   "execution_count": 92,
   "id": "9af1f36b",
   "metadata": {},
   "outputs": [],
   "source": [
    "scaler = StandardScaler()"
   ]
  },
  {
   "cell_type": "code",
   "execution_count": 93,
   "id": "eafc968c",
   "metadata": {},
   "outputs": [
    {
     "data": {
      "text/plain": [
       "StandardScaler()"
      ]
     },
     "execution_count": 93,
     "metadata": {},
     "output_type": "execute_result"
    }
   ],
   "source": [
    "scaler.fit(x_train)"
   ]
  },
  {
   "cell_type": "code",
   "execution_count": 94,
   "id": "4e547e64",
   "metadata": {},
   "outputs": [],
   "source": [
    "x_train = scaler.transform(x_train)"
   ]
  },
  {
   "cell_type": "code",
   "execution_count": 95,
   "id": "9665c1f6",
   "metadata": {},
   "outputs": [],
   "source": [
    "x_test = scaler.transform(x_test)"
   ]
  },
  {
   "cell_type": "code",
   "execution_count": 96,
   "id": "ef9f4c3e",
   "metadata": {},
   "outputs": [],
   "source": [
    "x_eval = scaler.transform(x_eval)"
   ]
  },
  {
   "cell_type": "code",
   "execution_count": 97,
   "id": "e12d7b3b",
   "metadata": {},
   "outputs": [],
   "source": [
    "from sklearn.linear_model import Ridge"
   ]
  },
  {
   "cell_type": "code",
   "execution_count": 98,
   "id": "d255eb4e",
   "metadata": {},
   "outputs": [],
   "source": [
    "model = Ridge(alpha=100)"
   ]
  },
  {
   "cell_type": "code",
   "execution_count": 99,
   "id": "857a1959",
   "metadata": {},
   "outputs": [
    {
     "data": {
      "text/plain": [
       "Ridge(alpha=100)"
      ]
     },
     "execution_count": 99,
     "metadata": {},
     "output_type": "execute_result"
    }
   ],
   "source": [
    "model.fit(x_train , y_train)"
   ]
  },
  {
   "cell_type": "code",
   "execution_count": 100,
   "id": "35523633",
   "metadata": {},
   "outputs": [
    {
     "data": {
      "text/plain": [
       "array([[ 1.52554593, -0.90287959, -0.45334493],\n",
       "       [-1.73586959,  0.44003087, -1.01385383],\n",
       "       [-1.75129841, -0.80114395, -1.1866774 ],\n",
       "       [ 0.27818504, -0.06186496,  0.01841672],\n",
       "       [-0.89321857,  0.22299483, -0.41130676],\n",
       "       [-1.34896222,  1.14539797, -0.89708114],\n",
       "       [-0.1443273 , -1.44546967, -0.21045774],\n",
       "       [-0.65822574, -0.58410791,  0.36406387],\n",
       "       [ 0.30073486,  0.67741403,  0.35472206],\n",
       "       [-1.57683405, -0.11612397,  0.90121823],\n",
       "       [-0.13483264, -1.45903442, -1.03253746],\n",
       "       [ 0.9060194 ,  0.9690562 ,  0.04177126],\n",
       "       [ 0.34583449, -0.85540295,  1.27489083],\n",
       "       [-1.59582336,  1.52521103,  1.78401974],\n",
       "       [ 0.83955678, -1.35729878, -0.84103025],\n",
       "       [-1.56971305, -0.5027194 , -0.41130676],\n",
       "       [-0.91339472,  1.76259419,  0.68168558],\n",
       "       [ 0.16543596, -0.90966196, -0.63083941],\n",
       "       [-1.27181811,  1.07757421,  0.65366013],\n",
       "       [-1.42610633,  0.08056494, -1.35015916],\n",
       "       [-0.99528615,  0.89445006,  3.87191537],\n",
       "       [ 0.56065116,  1.76259419,  1.34962534],\n",
       "       [ 0.81700697,  0.66384928,  0.3173548 ],\n",
       "       [ 0.89652474, -0.51628415,  0.87786369],\n",
       "       [ 1.3522684 , -0.23142436, -1.4389064 ],\n",
       "       [ 1.3012346 ,  1.308175  ,  1.10206725],\n",
       "       [ 1.31785025,  0.36542473, -0.71024484],\n",
       "       [-0.66415991, -1.4929463 , -1.10727197],\n",
       "       [ 0.28530604, -0.54341366, -1.34081735],\n",
       "       [ 0.80869914,  0.6841964 ,  0.65366013]])"
      ]
     },
     "execution_count": 100,
     "metadata": {},
     "output_type": "execute_result"
    }
   ],
   "source": [
    "x_eval"
   ]
  },
  {
   "cell_type": "code",
   "execution_count": 101,
   "id": "05d72c1d",
   "metadata": {},
   "outputs": [
    {
     "data": {
      "text/plain": [
       "array([16.0980788 , 10.8495293 ,  8.75095421, 14.83525505, 12.55896716,\n",
       "       12.8883864 , 11.58372535, 12.01609545, 16.18778637, 10.90016204,\n",
       "       11.32616781, 17.90771073, 14.09264772, 13.79206361, 13.71636726,\n",
       "        9.87999576, 15.34908128, 13.00876939, 13.43419788, 10.85075815,\n",
       "       14.75707677, 18.83377117, 17.30158479, 15.74187916, 16.49277745,\n",
       "       19.66643199, 17.6105132 , 10.07145317, 13.64670913, 17.42108555])"
      ]
     },
     "execution_count": 101,
     "metadata": {},
     "output_type": "execute_result"
    }
   ],
   "source": [
    "eval_pred = model.predict(x_eval)\n",
    "eval_pred"
   ]
  },
  {
   "cell_type": "code",
   "execution_count": 102,
   "id": "537159ef",
   "metadata": {},
   "outputs": [],
   "source": [
    "from sklearn.metrics import mean_squared_error"
   ]
  },
  {
   "cell_type": "code",
   "execution_count": 103,
   "id": "1563fa09",
   "metadata": {},
   "outputs": [],
   "source": [
    "rmse =  np.sqrt(mean_squared_error(y_eval,eval_pred))"
   ]
  },
  {
   "cell_type": "code",
   "execution_count": 104,
   "id": "d6929a04",
   "metadata": {},
   "outputs": [
    {
     "data": {
      "text/plain": [
       "2.7055686017589484"
      ]
     },
     "execution_count": 104,
     "metadata": {},
     "output_type": "execute_result"
    }
   ],
   "source": [
    "rmse"
   ]
  },
  {
   "cell_type": "code",
   "execution_count": 105,
   "id": "b4b7d325",
   "metadata": {},
   "outputs": [],
   "source": [
    "model_ridge = Ridge(alpha=1)"
   ]
  },
  {
   "cell_type": "code",
   "execution_count": 106,
   "id": "ed15b89f",
   "metadata": {},
   "outputs": [
    {
     "data": {
      "text/plain": [
       "Ridge(alpha=1)"
      ]
     },
     "execution_count": 106,
     "metadata": {},
     "output_type": "execute_result"
    }
   ],
   "source": [
    "model_ridge.fit(x_train,y_train)"
   ]
  },
  {
   "cell_type": "code",
   "execution_count": 107,
   "id": "329d779f",
   "metadata": {},
   "outputs": [],
   "source": [
    "final_eval_pred = model_ridge.predict(x_eval)"
   ]
  },
  {
   "cell_type": "code",
   "execution_count": 108,
   "id": "fee83059",
   "metadata": {},
   "outputs": [
    {
     "data": {
      "text/plain": [
       "1.5439504768796786"
      ]
     },
     "execution_count": 108,
     "metadata": {},
     "output_type": "execute_result"
    }
   ],
   "source": [
    "rmse =  np.sqrt(mean_squared_error(y_eval,final_eval_pred))\n",
    "rmse"
   ]
  },
  {
   "cell_type": "code",
   "execution_count": 109,
   "id": "880ad470",
   "metadata": {},
   "outputs": [],
   "source": [
    "final_pred = model_ridge.predict(x_test)"
   ]
  },
  {
   "cell_type": "code",
   "execution_count": 110,
   "id": "07d964b8",
   "metadata": {},
   "outputs": [
    {
     "data": {
      "text/plain": [
       "1.5014193564093001"
      ]
     },
     "execution_count": 110,
     "metadata": {},
     "output_type": "execute_result"
    }
   ],
   "source": [
    "rmse =  np.sqrt(mean_squared_error(y_test,final_pred))\n",
    "rmse"
   ]
  },
  {
   "cell_type": "code",
   "execution_count": null,
   "id": "2e1852e3",
   "metadata": {},
   "outputs": [],
   "source": []
  }
 ],
 "metadata": {
  "kernelspec": {
   "display_name": "Python 3 (ipykernel)",
   "language": "python",
   "name": "python3"
  },
  "language_info": {
   "codemirror_mode": {
    "name": "ipython",
    "version": 3
   },
   "file_extension": ".py",
   "mimetype": "text/x-python",
   "name": "python",
   "nbconvert_exporter": "python",
   "pygments_lexer": "ipython3",
   "version": "3.9.7"
  }
 },
 "nbformat": 4,
 "nbformat_minor": 5
}
