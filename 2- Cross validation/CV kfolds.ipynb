{
 "cells": [
  {
   "cell_type": "code",
   "execution_count": 25,
   "id": "1531f1bb",
   "metadata": {},
   "outputs": [],
   "source": [
    "import numpy as np\n",
    "import pandas as pd\n",
    "import matplotlib.pyplot as plt\n",
    "import seaborn as sns"
   ]
  },
  {
   "cell_type": "code",
   "execution_count": 26,
   "id": "30d336c1",
   "metadata": {},
   "outputs": [],
   "source": [
    "df = pd.read_csv('C:/Users/Abdelrahman/Documents/Machine Learning/linear regression/08-Linear-Regression-Models/Advertising.csv')"
   ]
  },
  {
   "cell_type": "code",
   "execution_count": 27,
   "id": "beae93ff",
   "metadata": {},
   "outputs": [
    {
     "data": {
      "text/html": [
       "<div>\n",
       "<style scoped>\n",
       "    .dataframe tbody tr th:only-of-type {\n",
       "        vertical-align: middle;\n",
       "    }\n",
       "\n",
       "    .dataframe tbody tr th {\n",
       "        vertical-align: top;\n",
       "    }\n",
       "\n",
       "    .dataframe thead th {\n",
       "        text-align: right;\n",
       "    }\n",
       "</style>\n",
       "<table border=\"1\" class=\"dataframe\">\n",
       "  <thead>\n",
       "    <tr style=\"text-align: right;\">\n",
       "      <th></th>\n",
       "      <th>TV</th>\n",
       "      <th>radio</th>\n",
       "      <th>newspaper</th>\n",
       "      <th>sales</th>\n",
       "    </tr>\n",
       "  </thead>\n",
       "  <tbody>\n",
       "    <tr>\n",
       "      <th>0</th>\n",
       "      <td>230.1</td>\n",
       "      <td>37.8</td>\n",
       "      <td>69.2</td>\n",
       "      <td>22.1</td>\n",
       "    </tr>\n",
       "    <tr>\n",
       "      <th>1</th>\n",
       "      <td>44.5</td>\n",
       "      <td>39.3</td>\n",
       "      <td>45.1</td>\n",
       "      <td>10.4</td>\n",
       "    </tr>\n",
       "    <tr>\n",
       "      <th>2</th>\n",
       "      <td>17.2</td>\n",
       "      <td>45.9</td>\n",
       "      <td>69.3</td>\n",
       "      <td>9.3</td>\n",
       "    </tr>\n",
       "    <tr>\n",
       "      <th>3</th>\n",
       "      <td>151.5</td>\n",
       "      <td>41.3</td>\n",
       "      <td>58.5</td>\n",
       "      <td>18.5</td>\n",
       "    </tr>\n",
       "    <tr>\n",
       "      <th>4</th>\n",
       "      <td>180.8</td>\n",
       "      <td>10.8</td>\n",
       "      <td>58.4</td>\n",
       "      <td>12.9</td>\n",
       "    </tr>\n",
       "  </tbody>\n",
       "</table>\n",
       "</div>"
      ],
      "text/plain": [
       "      TV  radio  newspaper  sales\n",
       "0  230.1   37.8       69.2   22.1\n",
       "1   44.5   39.3       45.1   10.4\n",
       "2   17.2   45.9       69.3    9.3\n",
       "3  151.5   41.3       58.5   18.5\n",
       "4  180.8   10.8       58.4   12.9"
      ]
     },
     "execution_count": 27,
     "metadata": {},
     "output_type": "execute_result"
    }
   ],
   "source": [
    "df.head()"
   ]
  },
  {
   "cell_type": "code",
   "execution_count": 28,
   "id": "1724d685",
   "metadata": {},
   "outputs": [],
   "source": [
    "## CREATE X and y\n",
    "x = df.drop('sales',axis=1)\n",
    "y = df['sales']\n",
    "\n",
    "# TRAIN TEST SPLIT\n",
    "from sklearn.model_selection import train_test_split\n",
    "x_train, x_test, y_train, y_test = train_test_split(x, y, test_size=0.3, random_state=101)\n",
    "\n",
    "# SCALE DATA\n",
    "from sklearn.preprocessing import StandardScaler\n",
    "scaler = StandardScaler()\n",
    "scaler.fit(x_train)\n",
    "x_train = scaler.transform(x_train)\n",
    "x_test = scaler.transform(x_test)"
   ]
  },
  {
   "cell_type": "code",
   "execution_count": 29,
   "id": "8c4cb738",
   "metadata": {},
   "outputs": [],
   "source": [
    "from sklearn.linear_model import Ridge"
   ]
  },
  {
   "cell_type": "code",
   "execution_count": 30,
   "id": "7a6ffa68",
   "metadata": {},
   "outputs": [],
   "source": [
    "model = Ridge(alpha=100)"
   ]
  },
  {
   "cell_type": "code",
   "execution_count": 31,
   "id": "97787657",
   "metadata": {},
   "outputs": [],
   "source": [
    "from sklearn.model_selection import cross_val_score"
   ]
  },
  {
   "cell_type": "code",
   "execution_count": 32,
   "id": "91e3038a",
   "metadata": {},
   "outputs": [],
   "source": [
    "scores = cross_val_score(model,x_train,y_train, cv=5 , scoring = 'neg_mean_squared_error')"
   ]
  },
  {
   "cell_type": "code",
   "execution_count": 33,
   "id": "41bf87d6",
   "metadata": {},
   "outputs": [
    {
     "data": {
      "text/plain": [
       "array([ -9.32552967,  -4.9449624 , -11.39665242,  -7.0242106 ,\n",
       "        -8.38562723])"
      ]
     },
     "execution_count": 33,
     "metadata": {},
     "output_type": "execute_result"
    }
   ],
   "source": [
    "scores"
   ]
  },
  {
   "cell_type": "code",
   "execution_count": 34,
   "id": "6bb54a51",
   "metadata": {},
   "outputs": [
    {
     "data": {
      "text/plain": [
       "8.215396464543607"
      ]
     },
     "execution_count": 34,
     "metadata": {},
     "output_type": "execute_result"
    }
   ],
   "source": [
    "abs(scores.mean())"
   ]
  },
  {
   "cell_type": "code",
   "execution_count": 35,
   "id": "26206f1d",
   "metadata": {},
   "outputs": [],
   "source": [
    "sec_model = Ridge(alpha=1)"
   ]
  },
  {
   "cell_type": "code",
   "execution_count": 39,
   "id": "f650097f",
   "metadata": {},
   "outputs": [],
   "source": [
    "scores_sec = cross_val_score(sec_model , x_train , y_train ,cv=5 , scoring='neg_mean_squared_error')"
   ]
  },
  {
   "cell_type": "code",
   "execution_count": 40,
   "id": "2ddd112e",
   "metadata": {},
   "outputs": [
    {
     "data": {
      "text/plain": [
       "array([-3.15513238, -1.58086982, -5.40455562, -2.21654481, -4.36709384])"
      ]
     },
     "execution_count": 40,
     "metadata": {},
     "output_type": "execute_result"
    }
   ],
   "source": [
    "scores_sec"
   ]
  },
  {
   "cell_type": "code",
   "execution_count": 41,
   "id": "a75c8a14",
   "metadata": {},
   "outputs": [
    {
     "data": {
      "text/plain": [
       "3.344839296530695"
      ]
     },
     "execution_count": 41,
     "metadata": {},
     "output_type": "execute_result"
    }
   ],
   "source": [
    "abs(scores_sec.mean())"
   ]
  },
  {
   "cell_type": "code",
   "execution_count": 43,
   "id": "01fb936c",
   "metadata": {},
   "outputs": [
    {
     "data": {
      "text/plain": [
       "Ridge(alpha=1)"
      ]
     },
     "execution_count": 43,
     "metadata": {},
     "output_type": "execute_result"
    }
   ],
   "source": [
    "sec_model.fit(x_train,y_train)"
   ]
  },
  {
   "cell_type": "code",
   "execution_count": 44,
   "id": "5c25c50d",
   "metadata": {},
   "outputs": [],
   "source": [
    "y_pred = sec_model.predict(x_test)"
   ]
  },
  {
   "cell_type": "code",
   "execution_count": 45,
   "id": "dfd2aa77",
   "metadata": {},
   "outputs": [],
   "source": [
    "from sklearn.metrics import mean_squared_error"
   ]
  },
  {
   "cell_type": "code",
   "execution_count": 46,
   "id": "979f08ce",
   "metadata": {},
   "outputs": [],
   "source": [
    "rmse = np.sqrt(mean_squared_error(y_test , y_pred))"
   ]
  },
  {
   "cell_type": "code",
   "execution_count": 47,
   "id": "63c24a89",
   "metadata": {},
   "outputs": [
    {
     "data": {
      "text/plain": [
       "1.5228334050147283"
      ]
     },
     "execution_count": 47,
     "metadata": {},
     "output_type": "execute_result"
    }
   ],
   "source": [
    "rmse"
   ]
  },
  {
   "cell_type": "code",
   "execution_count": 48,
   "id": "180f9dd1",
   "metadata": {},
   "outputs": [],
   "source": [
    "from sklearn.model_selection import cross_validate"
   ]
  },
  {
   "cell_type": "code",
   "execution_count": 49,
   "id": "88d9895f",
   "metadata": {},
   "outputs": [],
   "source": [
    "scores_one = cross_validate(model , x_train , y_train , cv=5 , scoring = ['neg_mean_absolute_error','neg_mean_squared_error','max_error'])"
   ]
  },
  {
   "cell_type": "code",
   "execution_count": 50,
   "id": "3c3d3b3a",
   "metadata": {},
   "outputs": [
    {
     "data": {
      "text/plain": [
       "{'fit_time': array([0.39339995, 0.0009954 , 0.0009973 , 0.00099611, 0.        ]),\n",
       " 'score_time': array([0.00126934, 0.0009973 , 0.0009973 , 0.00099969, 0.00099564]),\n",
       " 'test_neg_mean_absolute_error': array([-2.31243044, -1.74653361, -2.56211701, -2.01873159, -2.27951906]),\n",
       " 'test_neg_mean_squared_error': array([ -9.32552967,  -4.9449624 , -11.39665242,  -7.0242106 ,\n",
       "         -8.38562723]),\n",
       " 'test_max_error': array([ -6.44988486,  -5.58926073, -10.33914027,  -6.61950405,\n",
       "         -7.75578515])}"
      ]
     },
     "execution_count": 50,
     "metadata": {},
     "output_type": "execute_result"
    }
   ],
   "source": [
    "scores_one"
   ]
  },
  {
   "cell_type": "code",
   "execution_count": 51,
   "id": "f4f72124",
   "metadata": {},
   "outputs": [
    {
     "data": {
      "text/html": [
       "<div>\n",
       "<style scoped>\n",
       "    .dataframe tbody tr th:only-of-type {\n",
       "        vertical-align: middle;\n",
       "    }\n",
       "\n",
       "    .dataframe tbody tr th {\n",
       "        vertical-align: top;\n",
       "    }\n",
       "\n",
       "    .dataframe thead th {\n",
       "        text-align: right;\n",
       "    }\n",
       "</style>\n",
       "<table border=\"1\" class=\"dataframe\">\n",
       "  <thead>\n",
       "    <tr style=\"text-align: right;\">\n",
       "      <th></th>\n",
       "      <th>fit_time</th>\n",
       "      <th>score_time</th>\n",
       "      <th>test_neg_mean_absolute_error</th>\n",
       "      <th>test_neg_mean_squared_error</th>\n",
       "      <th>test_max_error</th>\n",
       "    </tr>\n",
       "  </thead>\n",
       "  <tbody>\n",
       "    <tr>\n",
       "      <th>0</th>\n",
       "      <td>0.393400</td>\n",
       "      <td>0.001269</td>\n",
       "      <td>-2.312430</td>\n",
       "      <td>-9.325530</td>\n",
       "      <td>-6.449885</td>\n",
       "    </tr>\n",
       "    <tr>\n",
       "      <th>1</th>\n",
       "      <td>0.000995</td>\n",
       "      <td>0.000997</td>\n",
       "      <td>-1.746534</td>\n",
       "      <td>-4.944962</td>\n",
       "      <td>-5.589261</td>\n",
       "    </tr>\n",
       "    <tr>\n",
       "      <th>2</th>\n",
       "      <td>0.000997</td>\n",
       "      <td>0.000997</td>\n",
       "      <td>-2.562117</td>\n",
       "      <td>-11.396652</td>\n",
       "      <td>-10.339140</td>\n",
       "    </tr>\n",
       "    <tr>\n",
       "      <th>3</th>\n",
       "      <td>0.000996</td>\n",
       "      <td>0.001000</td>\n",
       "      <td>-2.018732</td>\n",
       "      <td>-7.024211</td>\n",
       "      <td>-6.619504</td>\n",
       "    </tr>\n",
       "    <tr>\n",
       "      <th>4</th>\n",
       "      <td>0.000000</td>\n",
       "      <td>0.000996</td>\n",
       "      <td>-2.279519</td>\n",
       "      <td>-8.385627</td>\n",
       "      <td>-7.755785</td>\n",
       "    </tr>\n",
       "  </tbody>\n",
       "</table>\n",
       "</div>"
      ],
      "text/plain": [
       "   fit_time  score_time  test_neg_mean_absolute_error  \\\n",
       "0  0.393400    0.001269                     -2.312430   \n",
       "1  0.000995    0.000997                     -1.746534   \n",
       "2  0.000997    0.000997                     -2.562117   \n",
       "3  0.000996    0.001000                     -2.018732   \n",
       "4  0.000000    0.000996                     -2.279519   \n",
       "\n",
       "   test_neg_mean_squared_error  test_max_error  \n",
       "0                    -9.325530       -6.449885  \n",
       "1                    -4.944962       -5.589261  \n",
       "2                   -11.396652      -10.339140  \n",
       "3                    -7.024211       -6.619504  \n",
       "4                    -8.385627       -7.755785  "
      ]
     },
     "execution_count": 51,
     "metadata": {},
     "output_type": "execute_result"
    }
   ],
   "source": [
    "pd.DataFrame(scores_one)"
   ]
  },
  {
   "cell_type": "code",
   "execution_count": 52,
   "id": "f9f24a95",
   "metadata": {},
   "outputs": [
    {
     "data": {
      "text/plain": [
       "fit_time                        0.079278\n",
       "score_time                      0.001052\n",
       "test_neg_mean_absolute_error   -2.183866\n",
       "test_neg_mean_squared_error    -8.215396\n",
       "test_max_error                 -7.350715\n",
       "dtype: float64"
      ]
     },
     "execution_count": 52,
     "metadata": {},
     "output_type": "execute_result"
    }
   ],
   "source": [
    "pd.DataFrame(scores_one).mean()"
   ]
  },
  {
   "cell_type": "code",
   "execution_count": 53,
   "id": "bee71ac4",
   "metadata": {},
   "outputs": [],
   "source": [
    "scores_two = cross_validate(sec_model , x_train , y_train , cv=5 , scoring = ['neg_mean_absolute_error','neg_mean_squared_error','max_error'])"
   ]
  },
  {
   "cell_type": "code",
   "execution_count": 54,
   "id": "9a326ce9",
   "metadata": {},
   "outputs": [
    {
     "data": {
      "text/plain": [
       "{'fit_time': array([0.00197625, 0.0019958 , 0.00099707, 0.0009973 , 0.00099707]),\n",
       " 'score_time': array([0.        , 0.00099802, 0.00099659, 0.00099778, 0.0009973 ]),\n",
       " 'test_neg_mean_absolute_error': array([-1.54711694, -1.02604449, -1.40079299, -1.15425141, -1.47022164]),\n",
       " 'test_neg_mean_squared_error': array([-3.15513238, -1.58086982, -5.40455562, -2.21654481, -4.36709384]),\n",
       " 'test_max_error': array([-3.08829958, -2.81744088, -9.35320917, -4.05585583, -6.49092188])}"
      ]
     },
     "execution_count": 54,
     "metadata": {},
     "output_type": "execute_result"
    }
   ],
   "source": [
    "scores_two"
   ]
  },
  {
   "cell_type": "code",
   "execution_count": 55,
   "id": "de68d979",
   "metadata": {},
   "outputs": [
    {
     "data": {
      "text/html": [
       "<div>\n",
       "<style scoped>\n",
       "    .dataframe tbody tr th:only-of-type {\n",
       "        vertical-align: middle;\n",
       "    }\n",
       "\n",
       "    .dataframe tbody tr th {\n",
       "        vertical-align: top;\n",
       "    }\n",
       "\n",
       "    .dataframe thead th {\n",
       "        text-align: right;\n",
       "    }\n",
       "</style>\n",
       "<table border=\"1\" class=\"dataframe\">\n",
       "  <thead>\n",
       "    <tr style=\"text-align: right;\">\n",
       "      <th></th>\n",
       "      <th>fit_time</th>\n",
       "      <th>score_time</th>\n",
       "      <th>test_neg_mean_absolute_error</th>\n",
       "      <th>test_neg_mean_squared_error</th>\n",
       "      <th>test_max_error</th>\n",
       "    </tr>\n",
       "  </thead>\n",
       "  <tbody>\n",
       "    <tr>\n",
       "      <th>0</th>\n",
       "      <td>0.001976</td>\n",
       "      <td>0.000000</td>\n",
       "      <td>-1.547117</td>\n",
       "      <td>-3.155132</td>\n",
       "      <td>-3.088300</td>\n",
       "    </tr>\n",
       "    <tr>\n",
       "      <th>1</th>\n",
       "      <td>0.001996</td>\n",
       "      <td>0.000998</td>\n",
       "      <td>-1.026044</td>\n",
       "      <td>-1.580870</td>\n",
       "      <td>-2.817441</td>\n",
       "    </tr>\n",
       "    <tr>\n",
       "      <th>2</th>\n",
       "      <td>0.000997</td>\n",
       "      <td>0.000997</td>\n",
       "      <td>-1.400793</td>\n",
       "      <td>-5.404556</td>\n",
       "      <td>-9.353209</td>\n",
       "    </tr>\n",
       "    <tr>\n",
       "      <th>3</th>\n",
       "      <td>0.000997</td>\n",
       "      <td>0.000998</td>\n",
       "      <td>-1.154251</td>\n",
       "      <td>-2.216545</td>\n",
       "      <td>-4.055856</td>\n",
       "    </tr>\n",
       "    <tr>\n",
       "      <th>4</th>\n",
       "      <td>0.000997</td>\n",
       "      <td>0.000997</td>\n",
       "      <td>-1.470222</td>\n",
       "      <td>-4.367094</td>\n",
       "      <td>-6.490922</td>\n",
       "    </tr>\n",
       "  </tbody>\n",
       "</table>\n",
       "</div>"
      ],
      "text/plain": [
       "   fit_time  score_time  test_neg_mean_absolute_error  \\\n",
       "0  0.001976    0.000000                     -1.547117   \n",
       "1  0.001996    0.000998                     -1.026044   \n",
       "2  0.000997    0.000997                     -1.400793   \n",
       "3  0.000997    0.000998                     -1.154251   \n",
       "4  0.000997    0.000997                     -1.470222   \n",
       "\n",
       "   test_neg_mean_squared_error  test_max_error  \n",
       "0                    -3.155132       -3.088300  \n",
       "1                    -1.580870       -2.817441  \n",
       "2                    -5.404556       -9.353209  \n",
       "3                    -2.216545       -4.055856  \n",
       "4                    -4.367094       -6.490922  "
      ]
     },
     "execution_count": 55,
     "metadata": {},
     "output_type": "execute_result"
    }
   ],
   "source": [
    "pd.DataFrame(scores_two)"
   ]
  },
  {
   "cell_type": "code",
   "execution_count": 56,
   "id": "d6555482",
   "metadata": {},
   "outputs": [
    {
     "data": {
      "text/plain": [
       "fit_time                        0.001393\n",
       "score_time                      0.000798\n",
       "test_neg_mean_absolute_error   -1.319685\n",
       "test_neg_mean_squared_error    -3.344839\n",
       "test_max_error                 -5.161145\n",
       "dtype: float64"
      ]
     },
     "execution_count": 56,
     "metadata": {},
     "output_type": "execute_result"
    }
   ],
   "source": [
    "pd.DataFrame(scores_two).mean()"
   ]
  },
  {
   "cell_type": "code",
   "execution_count": 57,
   "id": "c2d784ab",
   "metadata": {},
   "outputs": [
    {
     "data": {
      "text/plain": [
       "Ridge(alpha=1)"
      ]
     },
     "execution_count": 57,
     "metadata": {},
     "output_type": "execute_result"
    }
   ],
   "source": [
    "sec_model.fit(x_train , y_train)"
   ]
  },
  {
   "cell_type": "code",
   "execution_count": 58,
   "id": "5e366dee",
   "metadata": {},
   "outputs": [],
   "source": [
    "final_pred = sec_model.predict(x_test)"
   ]
  },
  {
   "cell_type": "code",
   "execution_count": 59,
   "id": "da88fc66",
   "metadata": {},
   "outputs": [
    {
     "data": {
      "text/plain": [
       "array([15.73544249, 19.56177685, 11.47282584, 16.99614361,  9.19583919,\n",
       "        7.06034338, 20.24078477, 17.27047482,  9.7997058 , 19.18969381,\n",
       "       12.40827613, 13.88321006, 13.72330625, 21.24960621, 18.41451801,\n",
       "       10.00739858, 15.54023734,  7.72694272,  7.59886443, 20.3595504 ,\n",
       "        7.831815  , 18.21607253, 24.61611392, 22.77116018,  8.0117733 ,\n",
       "       12.667102  , 21.40567156,  8.10250725, 12.43158049, 12.53481984,\n",
       "       10.81678067, 19.21537816, 10.09192883,  6.76998079, 17.29636618,\n",
       "        7.81497124,  9.28808588,  8.31202002, 10.6122371 , 10.6533735 ,\n",
       "       13.05491413,  9.80364168, 10.24764859,  8.09836046, 11.58209801,\n",
       "       10.10783927,  9.025001  , 16.24936342, 13.26025422, 20.77690029,\n",
       "       12.51477346, 13.96784546, 17.53696507, 11.15686875, 12.57233878,\n",
       "        5.56009018, 23.21824128, 12.62301353, 18.72931877, 15.18197827])"
      ]
     },
     "execution_count": 59,
     "metadata": {},
     "output_type": "execute_result"
    }
   ],
   "source": [
    "final_pred"
   ]
  },
  {
   "cell_type": "code",
   "execution_count": 62,
   "id": "18528fc7",
   "metadata": {},
   "outputs": [],
   "source": [
    "rmse = np.sqrt(mean_squared_error(y_test , final_pred))"
   ]
  },
  {
   "cell_type": "code",
   "execution_count": 63,
   "id": "3d78e6ab",
   "metadata": {},
   "outputs": [
    {
     "data": {
      "text/plain": [
       "1.5228334050147283"
      ]
     },
     "execution_count": 63,
     "metadata": {},
     "output_type": "execute_result"
    }
   ],
   "source": [
    "rmse"
   ]
  },
  {
   "cell_type": "code",
   "execution_count": null,
   "id": "bf5e99b6",
   "metadata": {},
   "outputs": [],
   "source": []
  }
 ],
 "metadata": {
  "kernelspec": {
   "display_name": "Python 3 (ipykernel)",
   "language": "python",
   "name": "python3"
  },
  "language_info": {
   "codemirror_mode": {
    "name": "ipython",
    "version": 3
   },
   "file_extension": ".py",
   "mimetype": "text/x-python",
   "name": "python",
   "nbconvert_exporter": "python",
   "pygments_lexer": "ipython3",
   "version": "3.9.12"
  }
 },
 "nbformat": 4,
 "nbformat_minor": 5
}
