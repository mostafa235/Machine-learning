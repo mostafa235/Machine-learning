{
 "cells": [
  {
   "cell_type": "markdown",
   "metadata": {
    "slideshow": {
     "slide_type": "slide"
    }
   },
   "source": [
    "# Exploratory Data Analysis on Heart Disease UCI"
   ]
  },
  {
   "cell_type": "markdown",
   "metadata": {
    "slideshow": {
     "slide_type": "subslide"
    }
   },
   "source": [
    "#                                           Introduction\n",
    "# The purpose of this data analysis is to better understand the health factors that influence a patient's risk of heart disease. To achieve this, an introduction to the data will be provided, along with a graphical analysis of the health factors in the dataset"
   ]
  },
  {
   "cell_type": "markdown",
   "metadata": {
    "slideshow": {
     "slide_type": "slide"
    }
   },
   "source": [
    "# Dataset Explanation\n",
    "\n",
    "\n",
    "# The Heart Disease Dataset selected for this project comes from the UCI Machine Learning Repository. The dataset consists of 100000 patients’ data, which describe the individual’s health factors and diagnosis of heart disease. The 14 health factors in the dataset used in this project are outlined below."
   ]
  },
  {
   "cell_type": "markdown",
   "metadata": {
    "slideshow": {
     "slide_type": "subslide"
    }
   },
   "source": [
    "# 1-Age: Age is the most important risk factor in developing cardiovascular or heart diseases, with approximately a tripling of risk with each decade of life. Coronary fatty streaks can begin to form in adolescence. It is estimated that 82 percent of people who die of coronary heart disease are 65 and older. Simultaneously, the risk of stroke doubles every decade after age 55.\n",
    "\n",
    "# 2-Sex: Men are at greater risk of heart disease than pre-menopausal women. Once past menopause, it has been argued that a woman’s risk is similar to a man’s although more recent data from the WHO and UN disputes this. If a female has diabetes, she is more likely to develop heart disease than a male with diabetes.\n",
    "\n",
    "# 3-Angina (Chest Pain): Angina is chest pain or discomfort caused when your heart muscle doesn’t get enough oxygen-rich blood. It may feel like pressure or squeezing in your chest. The discomfort also can occur in your shoulders, arms, neck, jaw, or back. Angina pain may even feel like indigestion.\n",
    "\n",
    "# 4-Resting Blood Pressure: Over time, high blood pressure can damage arteries that feed your heart. High blood pressure that occurs with other conditions, such as obesity, high cholesterol or diabetes, increases your risk even more.\n",
    "\n",
    "# 5-Serum Cholesterol: A high level of low-density lipoprotein (LDL) cholesterol (the “bad” cholesterol) is most likely to narrow arteries. A high level of triglycerides, a type of blood fat related to your diet, also ups your risk of a heart attack. However, a high level of high-density lipoprotein (HDL) cholesterol (the “good” cholesterol) lowers your risk of a heart attack.\n",
    "\n",
    "# 6-Fasting Blood Sugar: Not producing enough of a hormone secreted by your pancreas (insulin) or not responding to insulin properly causes your body’s blood sugar levels to rise, increasing your risk of a heart attack.\n",
    "\n",
    "# 7-Resting ECG: For people at low risk of cardiovascular disease, the USPSTF concludes with moderate certainty that the potential harms of screening with resting or exercise ECG equal or exceed the potential benefits. For people at intermediate to high risk, current evidence is insufficient to assess the balance of benefits and harms of screening.\n",
    "\n",
    "# 8- Max heart rate achieved: The increase in cardiovascular risk, associated with the acceleration of heart rate, was comparable to the increase in risk observed with high blood pressure. It has been shown that an increase in heart rate by 10 beats per minute was associated with an increase in the risk of cardiac death by at least 20%, and this increase in the risk is similar to the one observed with an increase in systolic blood pressure by 10 mm Hg.\n",
    "\n",
    "# 9-Exercise induced angina: The pain or discomfort associated with angina usually feels tight, gripping or squeezing, and can vary from mild to severe. Angina is usually felt in the center of your chest but may spread to either or both of your shoulders, or your back, neck, jaw or arm. It can even be felt in your hands. o Types of Angina a. Stable Angina / Angina Pectoris b. Unstable Angina c. Variant (Prinzmetal) Angina d. Microvascular Angina.\n",
    "\n",
    "# 10-Peak exercise ST segment: A treadmill ECG stress test is considered abnormal when there is a horizontal or down-sloping ST-segment depression ≥ 1 mm at 60–80 ms after the J point. Exercise ECGs with up-sloping ST-segment depressions are typically reported as an ‘equivocal’ test. In general, the occurrence of horizontal or down-sloping ST-segment depression at a lower workload (calculated in METs) or heart rate indicates a worse prognosis and higher likelihood of multi-vessel disease. The duration of ST-segment depression is also important, as prolonged recovery after peak stress is consistent with a positive treadmill ECG stress test. Another finding that is highly indicative of significant CAD is the occurrence of ST-segment elevation > 1 mm (often suggesting transmural ischemia); these patients are frequently referred urgently for coronary angiography."
   ]
  },
  {
   "cell_type": "code",
   "execution_count": 1,
   "metadata": {},
   "outputs": [],
   "source": [
    "import pandas as pd\n",
    "import seaborn as sns"
   ]
  },
  {
   "cell_type": "code",
   "execution_count": 85,
   "metadata": {},
   "outputs": [],
   "source": [
    "df=pd.read_csv(\"heart disease.csv\")"
   ]
  },
  {
   "cell_type": "markdown",
   "metadata": {
    "slideshow": {
     "slide_type": "slide"
    }
   },
   "source": [
    "# display data\n"
   ]
  },
  {
   "cell_type": "code",
   "execution_count": 86,
   "metadata": {
    "slideshow": {
     "slide_type": "subslide"
    }
   },
   "outputs": [
    {
     "data": {
      "text/html": [
       "<div>\n",
       "<style scoped>\n",
       "    .dataframe tbody tr th:only-of-type {\n",
       "        vertical-align: middle;\n",
       "    }\n",
       "\n",
       "    .dataframe tbody tr th {\n",
       "        vertical-align: top;\n",
       "    }\n",
       "\n",
       "    .dataframe thead th {\n",
       "        text-align: right;\n",
       "    }\n",
       "</style>\n",
       "<table border=\"1\" class=\"dataframe\">\n",
       "  <thead>\n",
       "    <tr style=\"text-align: right;\">\n",
       "      <th></th>\n",
       "      <th>age</th>\n",
       "      <th>cp</th>\n",
       "      <th>trestbps</th>\n",
       "      <th>chol</th>\n",
       "      <th>fbs</th>\n",
       "      <th>restecg</th>\n",
       "      <th>thalach</th>\n",
       "      <th>exang</th>\n",
       "      <th>oldpeak</th>\n",
       "      <th>slope</th>\n",
       "      <th>ca</th>\n",
       "      <th>thal</th>\n",
       "      <th>target</th>\n",
       "      <th>sex</th>\n",
       "    </tr>\n",
       "  </thead>\n",
       "  <tbody>\n",
       "    <tr>\n",
       "      <th>0</th>\n",
       "      <td>60</td>\n",
       "      <td>3</td>\n",
       "      <td>150</td>\n",
       "      <td>240</td>\n",
       "      <td>0</td>\n",
       "      <td>1</td>\n",
       "      <td>171</td>\n",
       "      <td>0</td>\n",
       "      <td>0.90000</td>\n",
       "      <td>2</td>\n",
       "      <td>0</td>\n",
       "      <td>2</td>\n",
       "      <td>1</td>\n",
       "      <td>0</td>\n",
       "    </tr>\n",
       "    <tr>\n",
       "      <th>1</th>\n",
       "      <td>65</td>\n",
       "      <td>0</td>\n",
       "      <td>135</td>\n",
       "      <td>254</td>\n",
       "      <td>0</td>\n",
       "      <td>0</td>\n",
       "      <td>127</td>\n",
       "      <td>0</td>\n",
       "      <td>2.80000</td>\n",
       "      <td>1</td>\n",
       "      <td>1</td>\n",
       "      <td>3</td>\n",
       "      <td>0</td>\n",
       "      <td>1</td>\n",
       "    </tr>\n",
       "    <tr>\n",
       "      <th>2</th>\n",
       "      <td>58</td>\n",
       "      <td>2</td>\n",
       "      <td>105</td>\n",
       "      <td>240</td>\n",
       "      <td>0</td>\n",
       "      <td>0</td>\n",
       "      <td>154</td>\n",
       "      <td>1</td>\n",
       "      <td>0.60000</td>\n",
       "      <td>1</td>\n",
       "      <td>0</td>\n",
       "      <td>3</td>\n",
       "      <td>1</td>\n",
       "      <td>1</td>\n",
       "    </tr>\n",
       "    <tr>\n",
       "      <th>3</th>\n",
       "      <td>49</td>\n",
       "      <td>0</td>\n",
       "      <td>130</td>\n",
       "      <td>269</td>\n",
       "      <td>0</td>\n",
       "      <td>1</td>\n",
       "      <td>162</td>\n",
       "      <td>0</td>\n",
       "      <td>0.00000</td>\n",
       "      <td>1</td>\n",
       "      <td>0</td>\n",
       "      <td>2</td>\n",
       "      <td>1</td>\n",
       "      <td>0</td>\n",
       "    </tr>\n",
       "    <tr>\n",
       "      <th>4</th>\n",
       "      <td>45</td>\n",
       "      <td>1</td>\n",
       "      <td>112</td>\n",
       "      <td>160</td>\n",
       "      <td>0</td>\n",
       "      <td>1</td>\n",
       "      <td>138</td>\n",
       "      <td>0</td>\n",
       "      <td>0.00000</td>\n",
       "      <td>1</td>\n",
       "      <td>0</td>\n",
       "      <td>2</td>\n",
       "      <td>1</td>\n",
       "      <td>0</td>\n",
       "    </tr>\n",
       "    <tr>\n",
       "      <th>...</th>\n",
       "      <td>...</td>\n",
       "      <td>...</td>\n",
       "      <td>...</td>\n",
       "      <td>...</td>\n",
       "      <td>...</td>\n",
       "      <td>...</td>\n",
       "      <td>...</td>\n",
       "      <td>...</td>\n",
       "      <td>...</td>\n",
       "      <td>...</td>\n",
       "      <td>...</td>\n",
       "      <td>...</td>\n",
       "      <td>...</td>\n",
       "      <td>...</td>\n",
       "    </tr>\n",
       "    <tr>\n",
       "      <th>99995</th>\n",
       "      <td>65</td>\n",
       "      <td>1</td>\n",
       "      <td>145</td>\n",
       "      <td>241</td>\n",
       "      <td>0</td>\n",
       "      <td>1</td>\n",
       "      <td>152</td>\n",
       "      <td>0</td>\n",
       "      <td>1.57929</td>\n",
       "      <td>1</td>\n",
       "      <td>0</td>\n",
       "      <td>2</td>\n",
       "      <td>0</td>\n",
       "      <td>0</td>\n",
       "    </tr>\n",
       "    <tr>\n",
       "      <th>99996</th>\n",
       "      <td>59</td>\n",
       "      <td>2</td>\n",
       "      <td>126</td>\n",
       "      <td>218</td>\n",
       "      <td>1</td>\n",
       "      <td>1</td>\n",
       "      <td>134</td>\n",
       "      <td>0</td>\n",
       "      <td>2.20000</td>\n",
       "      <td>1</td>\n",
       "      <td>1</td>\n",
       "      <td>1</td>\n",
       "      <td>0</td>\n",
       "      <td>1</td>\n",
       "    </tr>\n",
       "    <tr>\n",
       "      <th>99997</th>\n",
       "      <td>42</td>\n",
       "      <td>2</td>\n",
       "      <td>120</td>\n",
       "      <td>240</td>\n",
       "      <td>1</td>\n",
       "      <td>1</td>\n",
       "      <td>194</td>\n",
       "      <td>0</td>\n",
       "      <td>0.80000</td>\n",
       "      <td>0</td>\n",
       "      <td>0</td>\n",
       "      <td>3</td>\n",
       "      <td>1</td>\n",
       "      <td>1</td>\n",
       "    </tr>\n",
       "    <tr>\n",
       "      <th>99998</th>\n",
       "      <td>43</td>\n",
       "      <td>0</td>\n",
       "      <td>132</td>\n",
       "      <td>247</td>\n",
       "      <td>1</td>\n",
       "      <td>0</td>\n",
       "      <td>143</td>\n",
       "      <td>1</td>\n",
       "      <td>0.10000</td>\n",
       "      <td>1</td>\n",
       "      <td>4</td>\n",
       "      <td>3</td>\n",
       "      <td>0</td>\n",
       "      <td>1</td>\n",
       "    </tr>\n",
       "    <tr>\n",
       "      <th>99999</th>\n",
       "      <td>69</td>\n",
       "      <td>3</td>\n",
       "      <td>160</td>\n",
       "      <td>234</td>\n",
       "      <td>1</td>\n",
       "      <td>0</td>\n",
       "      <td>131</td>\n",
       "      <td>0</td>\n",
       "      <td>0.10000</td>\n",
       "      <td>1</td>\n",
       "      <td>1</td>\n",
       "      <td>2</td>\n",
       "      <td>1</td>\n",
       "      <td>1</td>\n",
       "    </tr>\n",
       "  </tbody>\n",
       "</table>\n",
       "<p>100000 rows × 14 columns</p>\n",
       "</div>"
      ],
      "text/plain": [
       "       age  cp  trestbps  chol  fbs  restecg  thalach  exang  oldpeak  slope  \\\n",
       "0       60   3       150   240    0        1      171      0  0.90000      2   \n",
       "1       65   0       135   254    0        0      127      0  2.80000      1   \n",
       "2       58   2       105   240    0        0      154      1  0.60000      1   \n",
       "3       49   0       130   269    0        1      162      0  0.00000      1   \n",
       "4       45   1       112   160    0        1      138      0  0.00000      1   \n",
       "...    ...  ..       ...   ...  ...      ...      ...    ...      ...    ...   \n",
       "99995   65   1       145   241    0        1      152      0  1.57929      1   \n",
       "99996   59   2       126   218    1        1      134      0  2.20000      1   \n",
       "99997   42   2       120   240    1        1      194      0  0.80000      0   \n",
       "99998   43   0       132   247    1        0      143      1  0.10000      1   \n",
       "99999   69   3       160   234    1        0      131      0  0.10000      1   \n",
       "\n",
       "       ca  thal  target  sex  \n",
       "0       0     2       1    0  \n",
       "1       1     3       0    1  \n",
       "2       0     3       1    1  \n",
       "3       0     2       1    0  \n",
       "4       0     2       1    0  \n",
       "...    ..   ...     ...  ...  \n",
       "99995   0     2       0    0  \n",
       "99996   1     1       0    1  \n",
       "99997   0     3       1    1  \n",
       "99998   4     3       0    1  \n",
       "99999   1     2       1    1  \n",
       "\n",
       "[100000 rows x 14 columns]"
      ]
     },
     "execution_count": 86,
     "metadata": {},
     "output_type": "execute_result"
    }
   ],
   "source": [
    "df"
   ]
  },
  {
   "cell_type": "markdown",
   "metadata": {
    "slideshow": {
     "slide_type": "subslide"
    }
   },
   "source": [
    "# It consists of 100000 record and 14 feature"
   ]
  },
  {
   "cell_type": "markdown",
   "metadata": {
    "slideshow": {
     "slide_type": "slide"
    }
   },
   "source": [
    "# data inforantion"
   ]
  },
  {
   "cell_type": "code",
   "execution_count": 87,
   "metadata": {
    "slideshow": {
     "slide_type": "subslide"
    }
   },
   "outputs": [
    {
     "name": "stdout",
     "output_type": "stream",
     "text": [
      "<class 'pandas.core.frame.DataFrame'>\n",
      "RangeIndex: 100000 entries, 0 to 99999\n",
      "Data columns (total 14 columns):\n",
      " #   Column    Non-Null Count   Dtype  \n",
      "---  ------    --------------   -----  \n",
      " 0   age       100000 non-null  int64  \n",
      " 1   cp        100000 non-null  int64  \n",
      " 2   trestbps  100000 non-null  int64  \n",
      " 3   chol      100000 non-null  int64  \n",
      " 4   fbs       100000 non-null  int64  \n",
      " 5   restecg   100000 non-null  int64  \n",
      " 6   thalach   100000 non-null  int64  \n",
      " 7   exang     100000 non-null  int64  \n",
      " 8   oldpeak   100000 non-null  float64\n",
      " 9   slope     100000 non-null  int64  \n",
      " 10  ca        100000 non-null  int64  \n",
      " 11  thal      100000 non-null  int64  \n",
      " 12  target    100000 non-null  int64  \n",
      " 13  sex       100000 non-null  int64  \n",
      "dtypes: float64(1), int64(13)\n",
      "memory usage: 10.7 MB\n"
     ]
    }
   ],
   "source": [
    "df.info()"
   ]
  },
  {
   "cell_type": "markdown",
   "metadata": {
    "slideshow": {
     "slide_type": "subslide"
    }
   },
   "source": [
    "# som statistic for data"
   ]
  },
  {
   "cell_type": "code",
   "execution_count": 88,
   "metadata": {
    "slideshow": {
     "slide_type": "subslide"
    }
   },
   "outputs": [
    {
     "data": {
      "text/html": [
       "<div>\n",
       "<style scoped>\n",
       "    .dataframe tbody tr th:only-of-type {\n",
       "        vertical-align: middle;\n",
       "    }\n",
       "\n",
       "    .dataframe tbody tr th {\n",
       "        vertical-align: top;\n",
       "    }\n",
       "\n",
       "    .dataframe thead th {\n",
       "        text-align: right;\n",
       "    }\n",
       "</style>\n",
       "<table border=\"1\" class=\"dataframe\">\n",
       "  <thead>\n",
       "    <tr style=\"text-align: right;\">\n",
       "      <th></th>\n",
       "      <th>age</th>\n",
       "      <th>cp</th>\n",
       "      <th>trestbps</th>\n",
       "      <th>chol</th>\n",
       "      <th>fbs</th>\n",
       "      <th>restecg</th>\n",
       "      <th>thalach</th>\n",
       "      <th>exang</th>\n",
       "      <th>oldpeak</th>\n",
       "      <th>slope</th>\n",
       "      <th>ca</th>\n",
       "      <th>thal</th>\n",
       "      <th>target</th>\n",
       "      <th>sex</th>\n",
       "    </tr>\n",
       "  </thead>\n",
       "  <tbody>\n",
       "    <tr>\n",
       "      <th>count</th>\n",
       "      <td>100000.000000</td>\n",
       "      <td>100000.000000</td>\n",
       "      <td>100000.00000</td>\n",
       "      <td>100000.000000</td>\n",
       "      <td>100000.000000</td>\n",
       "      <td>100000.000000</td>\n",
       "      <td>100000.000000</td>\n",
       "      <td>100000.000000</td>\n",
       "      <td>100000.000000</td>\n",
       "      <td>100000.000000</td>\n",
       "      <td>100000.000000</td>\n",
       "      <td>100000.000000</td>\n",
       "      <td>100000.000000</td>\n",
       "      <td>100000.000000</td>\n",
       "    </tr>\n",
       "    <tr>\n",
       "      <th>mean</th>\n",
       "      <td>54.766530</td>\n",
       "      <td>0.924030</td>\n",
       "      <td>132.07646</td>\n",
       "      <td>250.142150</td>\n",
       "      <td>0.122260</td>\n",
       "      <td>0.507420</td>\n",
       "      <td>149.613820</td>\n",
       "      <td>0.273370</td>\n",
       "      <td>1.024055</td>\n",
       "      <td>1.354830</td>\n",
       "      <td>0.653530</td>\n",
       "      <td>2.243000</td>\n",
       "      <td>0.564320</td>\n",
       "      <td>0.499160</td>\n",
       "    </tr>\n",
       "    <tr>\n",
       "      <th>std</th>\n",
       "      <td>9.067179</td>\n",
       "      <td>0.983528</td>\n",
       "      <td>17.73196</td>\n",
       "      <td>55.987246</td>\n",
       "      <td>0.327587</td>\n",
       "      <td>0.527435</td>\n",
       "      <td>21.927514</td>\n",
       "      <td>0.445691</td>\n",
       "      <td>1.140888</td>\n",
       "      <td>0.607527</td>\n",
       "      <td>0.974135</td>\n",
       "      <td>0.577143</td>\n",
       "      <td>0.495848</td>\n",
       "      <td>0.500002</td>\n",
       "    </tr>\n",
       "    <tr>\n",
       "      <th>min</th>\n",
       "      <td>29.000000</td>\n",
       "      <td>0.000000</td>\n",
       "      <td>94.00000</td>\n",
       "      <td>126.000000</td>\n",
       "      <td>0.000000</td>\n",
       "      <td>0.000000</td>\n",
       "      <td>71.000000</td>\n",
       "      <td>0.000000</td>\n",
       "      <td>0.000000</td>\n",
       "      <td>0.000000</td>\n",
       "      <td>0.000000</td>\n",
       "      <td>0.000000</td>\n",
       "      <td>0.000000</td>\n",
       "      <td>0.000000</td>\n",
       "    </tr>\n",
       "    <tr>\n",
       "      <th>25%</th>\n",
       "      <td>48.000000</td>\n",
       "      <td>0.000000</td>\n",
       "      <td>120.00000</td>\n",
       "      <td>211.000000</td>\n",
       "      <td>0.000000</td>\n",
       "      <td>0.000000</td>\n",
       "      <td>136.000000</td>\n",
       "      <td>0.000000</td>\n",
       "      <td>0.000000</td>\n",
       "      <td>1.000000</td>\n",
       "      <td>0.000000</td>\n",
       "      <td>2.000000</td>\n",
       "      <td>0.000000</td>\n",
       "      <td>0.000000</td>\n",
       "    </tr>\n",
       "    <tr>\n",
       "      <th>50%</th>\n",
       "      <td>56.000000</td>\n",
       "      <td>1.000000</td>\n",
       "      <td>130.00000</td>\n",
       "      <td>243.000000</td>\n",
       "      <td>0.000000</td>\n",
       "      <td>0.000000</td>\n",
       "      <td>153.000000</td>\n",
       "      <td>0.000000</td>\n",
       "      <td>0.731685</td>\n",
       "      <td>1.000000</td>\n",
       "      <td>0.000000</td>\n",
       "      <td>2.000000</td>\n",
       "      <td>1.000000</td>\n",
       "      <td>0.000000</td>\n",
       "    </tr>\n",
       "    <tr>\n",
       "      <th>75%</th>\n",
       "      <td>62.000000</td>\n",
       "      <td>2.000000</td>\n",
       "      <td>140.00000</td>\n",
       "      <td>282.000000</td>\n",
       "      <td>0.000000</td>\n",
       "      <td>1.000000</td>\n",
       "      <td>165.000000</td>\n",
       "      <td>1.000000</td>\n",
       "      <td>1.600000</td>\n",
       "      <td>2.000000</td>\n",
       "      <td>1.000000</td>\n",
       "      <td>3.000000</td>\n",
       "      <td>1.000000</td>\n",
       "      <td>1.000000</td>\n",
       "    </tr>\n",
       "    <tr>\n",
       "      <th>max</th>\n",
       "      <td>77.000000</td>\n",
       "      <td>3.000000</td>\n",
       "      <td>200.00000</td>\n",
       "      <td>564.000000</td>\n",
       "      <td>1.000000</td>\n",
       "      <td>2.000000</td>\n",
       "      <td>202.000000</td>\n",
       "      <td>1.000000</td>\n",
       "      <td>6.200000</td>\n",
       "      <td>2.000000</td>\n",
       "      <td>4.000000</td>\n",
       "      <td>3.000000</td>\n",
       "      <td>1.000000</td>\n",
       "      <td>1.000000</td>\n",
       "    </tr>\n",
       "  </tbody>\n",
       "</table>\n",
       "</div>"
      ],
      "text/plain": [
       "                 age             cp      trestbps           chol  \\\n",
       "count  100000.000000  100000.000000  100000.00000  100000.000000   \n",
       "mean       54.766530       0.924030     132.07646     250.142150   \n",
       "std         9.067179       0.983528      17.73196      55.987246   \n",
       "min        29.000000       0.000000      94.00000     126.000000   \n",
       "25%        48.000000       0.000000     120.00000     211.000000   \n",
       "50%        56.000000       1.000000     130.00000     243.000000   \n",
       "75%        62.000000       2.000000     140.00000     282.000000   \n",
       "max        77.000000       3.000000     200.00000     564.000000   \n",
       "\n",
       "                 fbs        restecg        thalach          exang  \\\n",
       "count  100000.000000  100000.000000  100000.000000  100000.000000   \n",
       "mean        0.122260       0.507420     149.613820       0.273370   \n",
       "std         0.327587       0.527435      21.927514       0.445691   \n",
       "min         0.000000       0.000000      71.000000       0.000000   \n",
       "25%         0.000000       0.000000     136.000000       0.000000   \n",
       "50%         0.000000       0.000000     153.000000       0.000000   \n",
       "75%         0.000000       1.000000     165.000000       1.000000   \n",
       "max         1.000000       2.000000     202.000000       1.000000   \n",
       "\n",
       "             oldpeak          slope             ca           thal  \\\n",
       "count  100000.000000  100000.000000  100000.000000  100000.000000   \n",
       "mean        1.024055       1.354830       0.653530       2.243000   \n",
       "std         1.140888       0.607527       0.974135       0.577143   \n",
       "min         0.000000       0.000000       0.000000       0.000000   \n",
       "25%         0.000000       1.000000       0.000000       2.000000   \n",
       "50%         0.731685       1.000000       0.000000       2.000000   \n",
       "75%         1.600000       2.000000       1.000000       3.000000   \n",
       "max         6.200000       2.000000       4.000000       3.000000   \n",
       "\n",
       "              target            sex  \n",
       "count  100000.000000  100000.000000  \n",
       "mean        0.564320       0.499160  \n",
       "std         0.495848       0.500002  \n",
       "min         0.000000       0.000000  \n",
       "25%         0.000000       0.000000  \n",
       "50%         1.000000       0.000000  \n",
       "75%         1.000000       1.000000  \n",
       "max         1.000000       1.000000  "
      ]
     },
     "execution_count": 88,
     "metadata": {},
     "output_type": "execute_result"
    }
   ],
   "source": [
    "df.describe()"
   ]
  },
  {
   "cell_type": "code",
   "execution_count": 89,
   "metadata": {},
   "outputs": [
    {
     "data": {
      "text/plain": [
       "age         0\n",
       "cp          0\n",
       "trestbps    0\n",
       "chol        0\n",
       "fbs         0\n",
       "restecg     0\n",
       "thalach     0\n",
       "exang       0\n",
       "oldpeak     0\n",
       "slope       0\n",
       "ca          0\n",
       "thal        0\n",
       "target      0\n",
       "sex         0\n",
       "dtype: int64"
      ]
     },
     "execution_count": 89,
     "metadata": {},
     "output_type": "execute_result"
    }
   ],
   "source": [
    "df.isnull().sum()"
   ]
  },
  {
   "cell_type": "code",
   "execution_count": 90,
   "metadata": {},
   "outputs": [
    {
     "data": {
      "text/plain": [
       "Index(['age', 'cp', 'trestbps', 'chol', 'fbs', 'restecg', 'thalach', 'exang',\n",
       "       'oldpeak', 'slope', 'ca', 'thal', 'target', 'sex'],\n",
       "      dtype='object')"
      ]
     },
     "execution_count": 90,
     "metadata": {},
     "output_type": "execute_result"
    }
   ],
   "source": [
    "df.columns"
   ]
  },
  {
   "cell_type": "markdown",
   "metadata": {
    "slideshow": {
     "slide_type": "slide"
    }
   },
   "source": [
    "# correlation between feature"
   ]
  },
  {
   "cell_type": "code",
   "execution_count": 91,
   "metadata": {
    "slideshow": {
     "slide_type": "subslide"
    }
   },
   "outputs": [
    {
     "data": {
      "text/html": [
       "<div>\n",
       "<style scoped>\n",
       "    .dataframe tbody tr th:only-of-type {\n",
       "        vertical-align: middle;\n",
       "    }\n",
       "\n",
       "    .dataframe tbody tr th {\n",
       "        vertical-align: top;\n",
       "    }\n",
       "\n",
       "    .dataframe thead th {\n",
       "        text-align: right;\n",
       "    }\n",
       "</style>\n",
       "<table border=\"1\" class=\"dataframe\">\n",
       "  <thead>\n",
       "    <tr style=\"text-align: right;\">\n",
       "      <th></th>\n",
       "      <th>age</th>\n",
       "      <th>cp</th>\n",
       "      <th>trestbps</th>\n",
       "      <th>chol</th>\n",
       "      <th>fbs</th>\n",
       "      <th>restecg</th>\n",
       "      <th>thalach</th>\n",
       "      <th>exang</th>\n",
       "      <th>oldpeak</th>\n",
       "      <th>slope</th>\n",
       "      <th>ca</th>\n",
       "      <th>thal</th>\n",
       "      <th>target</th>\n",
       "      <th>sex</th>\n",
       "    </tr>\n",
       "  </thead>\n",
       "  <tbody>\n",
       "    <tr>\n",
       "      <th>age</th>\n",
       "      <td>1.000000</td>\n",
       "      <td>-0.066047</td>\n",
       "      <td>0.262922</td>\n",
       "      <td>0.229583</td>\n",
       "      <td>0.101144</td>\n",
       "      <td>-0.109502</td>\n",
       "      <td>-0.404677</td>\n",
       "      <td>0.055780</td>\n",
       "      <td>0.200990</td>\n",
       "      <td>-0.136180</td>\n",
       "      <td>0.273430</td>\n",
       "      <td>0.054870</td>\n",
       "      <td>-0.215480</td>\n",
       "      <td>-0.099095</td>\n",
       "    </tr>\n",
       "    <tr>\n",
       "      <th>cp</th>\n",
       "      <td>-0.066047</td>\n",
       "      <td>1.000000</td>\n",
       "      <td>-0.011169</td>\n",
       "      <td>-0.064896</td>\n",
       "      <td>0.064708</td>\n",
       "      <td>0.052760</td>\n",
       "      <td>0.280744</td>\n",
       "      <td>-0.370534</td>\n",
       "      <td>-0.191752</td>\n",
       "      <td>0.153781</td>\n",
       "      <td>-0.167973</td>\n",
       "      <td>-0.154271</td>\n",
       "      <td>0.422230</td>\n",
       "      <td>-0.011772</td>\n",
       "    </tr>\n",
       "    <tr>\n",
       "      <th>trestbps</th>\n",
       "      <td>0.262922</td>\n",
       "      <td>-0.011169</td>\n",
       "      <td>1.000000</td>\n",
       "      <td>0.145097</td>\n",
       "      <td>0.181214</td>\n",
       "      <td>-0.120009</td>\n",
       "      <td>-0.059447</td>\n",
       "      <td>0.130015</td>\n",
       "      <td>0.249951</td>\n",
       "      <td>-0.171351</td>\n",
       "      <td>0.134953</td>\n",
       "      <td>0.061935</td>\n",
       "      <td>-0.209706</td>\n",
       "      <td>-0.066482</td>\n",
       "    </tr>\n",
       "    <tr>\n",
       "      <th>chol</th>\n",
       "      <td>0.229583</td>\n",
       "      <td>-0.064896</td>\n",
       "      <td>0.145097</td>\n",
       "      <td>1.000000</td>\n",
       "      <td>0.035230</td>\n",
       "      <td>-0.197609</td>\n",
       "      <td>0.004614</td>\n",
       "      <td>0.043797</td>\n",
       "      <td>0.078082</td>\n",
       "      <td>0.017984</td>\n",
       "      <td>0.056848</td>\n",
       "      <td>0.094101</td>\n",
       "      <td>-0.108698</td>\n",
       "      <td>-0.195680</td>\n",
       "    </tr>\n",
       "    <tr>\n",
       "      <th>fbs</th>\n",
       "      <td>0.101144</td>\n",
       "      <td>0.064708</td>\n",
       "      <td>0.181214</td>\n",
       "      <td>0.035230</td>\n",
       "      <td>1.000000</td>\n",
       "      <td>-0.106246</td>\n",
       "      <td>-0.031100</td>\n",
       "      <td>0.097792</td>\n",
       "      <td>0.045268</td>\n",
       "      <td>-0.042567</td>\n",
       "      <td>0.178306</td>\n",
       "      <td>-0.008300</td>\n",
       "      <td>-0.088676</td>\n",
       "      <td>0.096419</td>\n",
       "    </tr>\n",
       "    <tr>\n",
       "      <th>restecg</th>\n",
       "      <td>-0.109502</td>\n",
       "      <td>0.052760</td>\n",
       "      <td>-0.120009</td>\n",
       "      <td>-0.197609</td>\n",
       "      <td>-0.106246</td>\n",
       "      <td>1.000000</td>\n",
       "      <td>0.022777</td>\n",
       "      <td>-0.025709</td>\n",
       "      <td>-0.055046</td>\n",
       "      <td>0.102058</td>\n",
       "      <td>-0.077686</td>\n",
       "      <td>-0.005660</td>\n",
       "      <td>0.118546</td>\n",
       "      <td>0.007001</td>\n",
       "    </tr>\n",
       "    <tr>\n",
       "      <th>thalach</th>\n",
       "      <td>-0.404677</td>\n",
       "      <td>0.280744</td>\n",
       "      <td>-0.059447</td>\n",
       "      <td>0.004614</td>\n",
       "      <td>-0.031100</td>\n",
       "      <td>0.022777</td>\n",
       "      <td>1.000000</td>\n",
       "      <td>-0.334711</td>\n",
       "      <td>-0.326078</td>\n",
       "      <td>0.381051</td>\n",
       "      <td>-0.204070</td>\n",
       "      <td>-0.086035</td>\n",
       "      <td>0.395401</td>\n",
       "      <td>-0.056780</td>\n",
       "    </tr>\n",
       "    <tr>\n",
       "      <th>exang</th>\n",
       "      <td>0.055780</td>\n",
       "      <td>-0.370534</td>\n",
       "      <td>0.130015</td>\n",
       "      <td>0.043797</td>\n",
       "      <td>0.097792</td>\n",
       "      <td>-0.025709</td>\n",
       "      <td>-0.334711</td>\n",
       "      <td>1.000000</td>\n",
       "      <td>0.296729</td>\n",
       "      <td>-0.224399</td>\n",
       "      <td>0.130032</td>\n",
       "      <td>0.225993</td>\n",
       "      <td>-0.436340</td>\n",
       "      <td>0.235477</td>\n",
       "    </tr>\n",
       "    <tr>\n",
       "      <th>oldpeak</th>\n",
       "      <td>0.200990</td>\n",
       "      <td>-0.191752</td>\n",
       "      <td>0.249951</td>\n",
       "      <td>0.078082</td>\n",
       "      <td>0.045268</td>\n",
       "      <td>-0.055046</td>\n",
       "      <td>-0.326078</td>\n",
       "      <td>0.296729</td>\n",
       "      <td>1.000000</td>\n",
       "      <td>-0.559528</td>\n",
       "      <td>0.276547</td>\n",
       "      <td>0.224578</td>\n",
       "      <td>-0.466800</td>\n",
       "      <td>0.102222</td>\n",
       "    </tr>\n",
       "    <tr>\n",
       "      <th>slope</th>\n",
       "      <td>-0.136180</td>\n",
       "      <td>0.153781</td>\n",
       "      <td>-0.171351</td>\n",
       "      <td>0.017984</td>\n",
       "      <td>-0.042567</td>\n",
       "      <td>0.102058</td>\n",
       "      <td>0.381051</td>\n",
       "      <td>-0.224399</td>\n",
       "      <td>-0.559528</td>\n",
       "      <td>1.000000</td>\n",
       "      <td>-0.078779</td>\n",
       "      <td>-0.080096</td>\n",
       "      <td>0.354578</td>\n",
       "      <td>0.033589</td>\n",
       "    </tr>\n",
       "    <tr>\n",
       "      <th>ca</th>\n",
       "      <td>0.273430</td>\n",
       "      <td>-0.167973</td>\n",
       "      <td>0.134953</td>\n",
       "      <td>0.056848</td>\n",
       "      <td>0.178306</td>\n",
       "      <td>-0.077686</td>\n",
       "      <td>-0.204070</td>\n",
       "      <td>0.130032</td>\n",
       "      <td>0.276547</td>\n",
       "      <td>-0.078779</td>\n",
       "      <td>1.000000</td>\n",
       "      <td>0.190894</td>\n",
       "      <td>-0.399054</td>\n",
       "      <td>0.182243</td>\n",
       "    </tr>\n",
       "    <tr>\n",
       "      <th>thal</th>\n",
       "      <td>0.054870</td>\n",
       "      <td>-0.154271</td>\n",
       "      <td>0.061935</td>\n",
       "      <td>0.094101</td>\n",
       "      <td>-0.008300</td>\n",
       "      <td>-0.005660</td>\n",
       "      <td>-0.086035</td>\n",
       "      <td>0.225993</td>\n",
       "      <td>0.224578</td>\n",
       "      <td>-0.080096</td>\n",
       "      <td>0.190894</td>\n",
       "      <td>1.000000</td>\n",
       "      <td>-0.342415</td>\n",
       "      <td>0.277625</td>\n",
       "    </tr>\n",
       "    <tr>\n",
       "      <th>target</th>\n",
       "      <td>-0.215480</td>\n",
       "      <td>0.422230</td>\n",
       "      <td>-0.209706</td>\n",
       "      <td>-0.108698</td>\n",
       "      <td>-0.088676</td>\n",
       "      <td>0.118546</td>\n",
       "      <td>0.395401</td>\n",
       "      <td>-0.436340</td>\n",
       "      <td>-0.466800</td>\n",
       "      <td>0.354578</td>\n",
       "      <td>-0.399054</td>\n",
       "      <td>-0.342415</td>\n",
       "      <td>1.000000</td>\n",
       "      <td>-0.290195</td>\n",
       "    </tr>\n",
       "    <tr>\n",
       "      <th>sex</th>\n",
       "      <td>-0.099095</td>\n",
       "      <td>-0.011772</td>\n",
       "      <td>-0.066482</td>\n",
       "      <td>-0.195680</td>\n",
       "      <td>0.096419</td>\n",
       "      <td>0.007001</td>\n",
       "      <td>-0.056780</td>\n",
       "      <td>0.235477</td>\n",
       "      <td>0.102222</td>\n",
       "      <td>0.033589</td>\n",
       "      <td>0.182243</td>\n",
       "      <td>0.277625</td>\n",
       "      <td>-0.290195</td>\n",
       "      <td>1.000000</td>\n",
       "    </tr>\n",
       "  </tbody>\n",
       "</table>\n",
       "</div>"
      ],
      "text/plain": [
       "               age        cp  trestbps      chol       fbs   restecg  \\\n",
       "age       1.000000 -0.066047  0.262922  0.229583  0.101144 -0.109502   \n",
       "cp       -0.066047  1.000000 -0.011169 -0.064896  0.064708  0.052760   \n",
       "trestbps  0.262922 -0.011169  1.000000  0.145097  0.181214 -0.120009   \n",
       "chol      0.229583 -0.064896  0.145097  1.000000  0.035230 -0.197609   \n",
       "fbs       0.101144  0.064708  0.181214  0.035230  1.000000 -0.106246   \n",
       "restecg  -0.109502  0.052760 -0.120009 -0.197609 -0.106246  1.000000   \n",
       "thalach  -0.404677  0.280744 -0.059447  0.004614 -0.031100  0.022777   \n",
       "exang     0.055780 -0.370534  0.130015  0.043797  0.097792 -0.025709   \n",
       "oldpeak   0.200990 -0.191752  0.249951  0.078082  0.045268 -0.055046   \n",
       "slope    -0.136180  0.153781 -0.171351  0.017984 -0.042567  0.102058   \n",
       "ca        0.273430 -0.167973  0.134953  0.056848  0.178306 -0.077686   \n",
       "thal      0.054870 -0.154271  0.061935  0.094101 -0.008300 -0.005660   \n",
       "target   -0.215480  0.422230 -0.209706 -0.108698 -0.088676  0.118546   \n",
       "sex      -0.099095 -0.011772 -0.066482 -0.195680  0.096419  0.007001   \n",
       "\n",
       "           thalach     exang   oldpeak     slope        ca      thal  \\\n",
       "age      -0.404677  0.055780  0.200990 -0.136180  0.273430  0.054870   \n",
       "cp        0.280744 -0.370534 -0.191752  0.153781 -0.167973 -0.154271   \n",
       "trestbps -0.059447  0.130015  0.249951 -0.171351  0.134953  0.061935   \n",
       "chol      0.004614  0.043797  0.078082  0.017984  0.056848  0.094101   \n",
       "fbs      -0.031100  0.097792  0.045268 -0.042567  0.178306 -0.008300   \n",
       "restecg   0.022777 -0.025709 -0.055046  0.102058 -0.077686 -0.005660   \n",
       "thalach   1.000000 -0.334711 -0.326078  0.381051 -0.204070 -0.086035   \n",
       "exang    -0.334711  1.000000  0.296729 -0.224399  0.130032  0.225993   \n",
       "oldpeak  -0.326078  0.296729  1.000000 -0.559528  0.276547  0.224578   \n",
       "slope     0.381051 -0.224399 -0.559528  1.000000 -0.078779 -0.080096   \n",
       "ca       -0.204070  0.130032  0.276547 -0.078779  1.000000  0.190894   \n",
       "thal     -0.086035  0.225993  0.224578 -0.080096  0.190894  1.000000   \n",
       "target    0.395401 -0.436340 -0.466800  0.354578 -0.399054 -0.342415   \n",
       "sex      -0.056780  0.235477  0.102222  0.033589  0.182243  0.277625   \n",
       "\n",
       "            target       sex  \n",
       "age      -0.215480 -0.099095  \n",
       "cp        0.422230 -0.011772  \n",
       "trestbps -0.209706 -0.066482  \n",
       "chol     -0.108698 -0.195680  \n",
       "fbs      -0.088676  0.096419  \n",
       "restecg   0.118546  0.007001  \n",
       "thalach   0.395401 -0.056780  \n",
       "exang    -0.436340  0.235477  \n",
       "oldpeak  -0.466800  0.102222  \n",
       "slope     0.354578  0.033589  \n",
       "ca       -0.399054  0.182243  \n",
       "thal     -0.342415  0.277625  \n",
       "target    1.000000 -0.290195  \n",
       "sex      -0.290195  1.000000  "
      ]
     },
     "execution_count": 91,
     "metadata": {},
     "output_type": "execute_result"
    }
   ],
   "source": [
    "df.corr()"
   ]
  },
  {
   "cell_type": "code",
   "execution_count": 92,
   "metadata": {
    "slideshow": {
     "slide_type": "subslide"
    }
   },
   "outputs": [
    {
     "data": {
      "text/plain": [
       "<matplotlib.axes._subplots.AxesSubplot at 0x1ca1bc347c8>"
      ]
     },
     "execution_count": 92,
     "metadata": {},
     "output_type": "execute_result"
    },
    {
     "data": {
      "image/png": "[encoded data removed]",
      "text/plain": [
       "<Figure size 720x720 with 2 Axes>"
      ]
     },
     "metadata": {},
     "output_type": "display_data"
    }
   ],
   "source": [
    "sns.set(rc={\"figure.figsize\":[10,10]})\n",
    "sns.heatmap(df.corr(),annot=True)"
   ]
  },
  {
   "cell_type": "markdown",
   "metadata": {
    "slideshow": {
     "slide_type": "subslide"
    }
   },
   "source": [
    "# 1- trestbps (resting blood pressure) and thalach (maximum heart rate achieved) are the strongest correlated factors with age. As a patient’s age increases, their resting blood pressure tends to increase and their maximum heart rate achieved tends to decrease. \n",
    "\n",
    "# 2-Of particular interest is the row in the table for cardio, the diagnosis of heart disease. This row shows the correlation between cardio and the other health factors. Some of the factors with the strongest correlations to cardio are cp, thalach, exang, slope,oldpeak and slope which were defined in the Dataset Explanation section. While age and sex do not have as strong correlations to the cardio factor, this is not to say there are no conclusions that can be drawn from these factors. Analyzing how these factors interact with the cardio factor when evaluated in unison by looking at trends between groupings of both age and sex reveals additional information on how the age and sex of a patient can statistically contribute to the overall risk for cardiovascular disease."
   ]
  },
  {
   "cell_type": "code",
   "execution_count": 93,
   "metadata": {},
   "outputs": [
    {
     "data": {
      "text/plain": [
       "Index(['age', 'cp', 'trestbps', 'chol', 'fbs', 'restecg', 'thalach', 'exang',\n",
       "       'oldpeak', 'slope', 'ca', 'thal', 'target', 'sex'],\n",
       "      dtype='object')"
      ]
     },
     "execution_count": 93,
     "metadata": {},
     "output_type": "execute_result"
    }
   ],
   "source": [
    "df.columns"
   ]
  },
  {
   "cell_type": "code",
   "execution_count": 94,
   "metadata": {},
   "outputs": [],
   "source": [
    "co=['age', 'cp', 'trestbps', 'chol', 'restecg', 'thalach', 'exang',\n",
    "       'oldpeak', 'slope', 'ca', 'thal', 'target', 'sex']"
   ]
  },
  {
   "cell_type": "markdown",
   "metadata": {
    "slideshow": {
     "slide_type": "slide"
    }
   },
   "source": [
    "# display and drop outliers"
   ]
  },
  {
   "cell_type": "code",
   "execution_count": 95,
   "metadata": {
    "slideshow": {
     "slide_type": "subslide"
    }
   },
   "outputs": [
    {
     "data": {
      "text/plain": [
       "<matplotlib.axes._subplots.AxesSubplot at 0x1ca1b837fc8>"
      ]
     },
     "execution_count": 95,
     "metadata": {},
     "output_type": "execute_result"
    },
    {
     "data": {
      "image/png": "[encoded data removed]",
      "text/plain": [
       "<Figure size 720x720 with 1 Axes>"
      ]
     },
     "metadata": {},
     "output_type": "display_data"
    }
   ],
   "source": [
    "sns.boxplot(data=df)"
   ]
  },
  {
   "cell_type": "code",
   "execution_count": 96,
   "metadata": {},
   "outputs": [],
   "source": [
    "from datasist.structdata import detect_outliers"
   ]
  },
  {
   "cell_type": "code",
   "execution_count": 97,
   "metadata": {},
   "outputs": [],
   "source": [
    "outliers_indices=detect_outliers(df,0,co)\n",
    "df.drop(outliers_indices,inplace=True)"
   ]
  },
  {
   "cell_type": "markdown",
   "metadata": {
    "slideshow": {
     "slide_type": "slide"
    }
   },
   "source": [
    "# statistic of data after drop outliers"
   ]
  },
  {
   "cell_type": "code",
   "execution_count": 98,
   "metadata": {
    "slideshow": {
     "slide_type": "subslide"
    }
   },
   "outputs": [
    {
     "data": {
      "text/html": [
       "<div>\n",
       "<style scoped>\n",
       "    .dataframe tbody tr th:only-of-type {\n",
       "        vertical-align: middle;\n",
       "    }\n",
       "\n",
       "    .dataframe tbody tr th {\n",
       "        vertical-align: top;\n",
       "    }\n",
       "\n",
       "    .dataframe thead th {\n",
       "        text-align: right;\n",
       "    }\n",
       "</style>\n",
       "<table border=\"1\" class=\"dataframe\">\n",
       "  <thead>\n",
       "    <tr style=\"text-align: right;\">\n",
       "      <th></th>\n",
       "      <th>age</th>\n",
       "      <th>cp</th>\n",
       "      <th>trestbps</th>\n",
       "      <th>chol</th>\n",
       "      <th>fbs</th>\n",
       "      <th>restecg</th>\n",
       "      <th>thalach</th>\n",
       "      <th>exang</th>\n",
       "      <th>oldpeak</th>\n",
       "      <th>slope</th>\n",
       "      <th>ca</th>\n",
       "      <th>thal</th>\n",
       "      <th>target</th>\n",
       "      <th>sex</th>\n",
       "    </tr>\n",
       "  </thead>\n",
       "  <tbody>\n",
       "    <tr>\n",
       "      <th>count</th>\n",
       "      <td>85958.000000</td>\n",
       "      <td>85958.000000</td>\n",
       "      <td>85958.000000</td>\n",
       "      <td>85958.000000</td>\n",
       "      <td>85958.000000</td>\n",
       "      <td>85958.000000</td>\n",
       "      <td>85958.000000</td>\n",
       "      <td>85958.000000</td>\n",
       "      <td>85958.000000</td>\n",
       "      <td>85958.000000</td>\n",
       "      <td>85958.000000</td>\n",
       "      <td>85958.000000</td>\n",
       "      <td>85958.000000</td>\n",
       "      <td>85958.000000</td>\n",
       "    </tr>\n",
       "    <tr>\n",
       "      <th>mean</th>\n",
       "      <td>54.153994</td>\n",
       "      <td>0.969055</td>\n",
       "      <td>129.453687</td>\n",
       "      <td>244.628412</td>\n",
       "      <td>0.098944</td>\n",
       "      <td>0.512588</td>\n",
       "      <td>151.390412</td>\n",
       "      <td>0.250960</td>\n",
       "      <td>0.911692</td>\n",
       "      <td>1.395007</td>\n",
       "      <td>0.457328</td>\n",
       "      <td>2.233672</td>\n",
       "      <td>0.607913</td>\n",
       "      <td>0.496301</td>\n",
       "    </tr>\n",
       "    <tr>\n",
       "      <th>std</th>\n",
       "      <td>9.133275</td>\n",
       "      <td>0.986216</td>\n",
       "      <td>14.927943</td>\n",
       "      <td>45.911255</td>\n",
       "      <td>0.298588</td>\n",
       "      <td>0.512781</td>\n",
       "      <td>21.077897</td>\n",
       "      <td>0.433568</td>\n",
       "      <td>0.988835</td>\n",
       "      <td>0.596650</td>\n",
       "      <td>0.699302</td>\n",
       "      <td>0.524252</td>\n",
       "      <td>0.488219</td>\n",
       "      <td>0.499989</td>\n",
       "    </tr>\n",
       "    <tr>\n",
       "      <th>min</th>\n",
       "      <td>29.000000</td>\n",
       "      <td>0.000000</td>\n",
       "      <td>94.000000</td>\n",
       "      <td>126.000000</td>\n",
       "      <td>0.000000</td>\n",
       "      <td>0.000000</td>\n",
       "      <td>95.000000</td>\n",
       "      <td>0.000000</td>\n",
       "      <td>0.000000</td>\n",
       "      <td>0.000000</td>\n",
       "      <td>0.000000</td>\n",
       "      <td>1.000000</td>\n",
       "      <td>0.000000</td>\n",
       "      <td>0.000000</td>\n",
       "    </tr>\n",
       "    <tr>\n",
       "      <th>25%</th>\n",
       "      <td>47.000000</td>\n",
       "      <td>0.000000</td>\n",
       "      <td>120.000000</td>\n",
       "      <td>209.000000</td>\n",
       "      <td>0.000000</td>\n",
       "      <td>0.000000</td>\n",
       "      <td>139.000000</td>\n",
       "      <td>0.000000</td>\n",
       "      <td>0.000000</td>\n",
       "      <td>1.000000</td>\n",
       "      <td>0.000000</td>\n",
       "      <td>2.000000</td>\n",
       "      <td>0.000000</td>\n",
       "      <td>0.000000</td>\n",
       "    </tr>\n",
       "    <tr>\n",
       "      <th>50%</th>\n",
       "      <td>55.000000</td>\n",
       "      <td>1.000000</td>\n",
       "      <td>130.000000</td>\n",
       "      <td>241.000000</td>\n",
       "      <td>0.000000</td>\n",
       "      <td>1.000000</td>\n",
       "      <td>155.000000</td>\n",
       "      <td>0.000000</td>\n",
       "      <td>0.600000</td>\n",
       "      <td>1.000000</td>\n",
       "      <td>0.000000</td>\n",
       "      <td>2.000000</td>\n",
       "      <td>1.000000</td>\n",
       "      <td>0.000000</td>\n",
       "    </tr>\n",
       "    <tr>\n",
       "      <th>75%</th>\n",
       "      <td>61.000000</td>\n",
       "      <td>2.000000</td>\n",
       "      <td>140.000000</td>\n",
       "      <td>275.000000</td>\n",
       "      <td>0.000000</td>\n",
       "      <td>1.000000</td>\n",
       "      <td>168.000000</td>\n",
       "      <td>1.000000</td>\n",
       "      <td>1.414977</td>\n",
       "      <td>2.000000</td>\n",
       "      <td>1.000000</td>\n",
       "      <td>3.000000</td>\n",
       "      <td>1.000000</td>\n",
       "      <td>1.000000</td>\n",
       "    </tr>\n",
       "    <tr>\n",
       "      <th>max</th>\n",
       "      <td>76.000000</td>\n",
       "      <td>3.000000</td>\n",
       "      <td>170.000000</td>\n",
       "      <td>360.000000</td>\n",
       "      <td>1.000000</td>\n",
       "      <td>2.000000</td>\n",
       "      <td>202.000000</td>\n",
       "      <td>1.000000</td>\n",
       "      <td>4.000000</td>\n",
       "      <td>2.000000</td>\n",
       "      <td>2.000000</td>\n",
       "      <td>3.000000</td>\n",
       "      <td>1.000000</td>\n",
       "      <td>1.000000</td>\n",
       "    </tr>\n",
       "  </tbody>\n",
       "</table>\n",
       "</div>"
      ],
      "text/plain": [
       "                age            cp      trestbps          chol           fbs  \\\n",
       "count  85958.000000  85958.000000  85958.000000  85958.000000  85958.000000   \n",
       "mean      54.153994      0.969055    129.453687    244.628412      0.098944   \n",
       "std        9.133275      0.986216     14.927943     45.911255      0.298588   \n",
       "min       29.000000      0.000000     94.000000    126.000000      0.000000   \n",
       "25%       47.000000      0.000000    120.000000    209.000000      0.000000   \n",
       "50%       55.000000      1.000000    130.000000    241.000000      0.000000   \n",
       "75%       61.000000      2.000000    140.000000    275.000000      0.000000   \n",
       "max       76.000000      3.000000    170.000000    360.000000      1.000000   \n",
       "\n",
       "            restecg       thalach         exang       oldpeak         slope  \\\n",
       "count  85958.000000  85958.000000  85958.000000  85958.000000  85958.000000   \n",
       "mean       0.512588    151.390412      0.250960      0.911692      1.395007   \n",
       "std        0.512781     21.077897      0.433568      0.988835      0.596650   \n",
       "min        0.000000     95.000000      0.000000      0.000000      0.000000   \n",
       "25%        0.000000    139.000000      0.000000      0.000000      1.000000   \n",
       "50%        1.000000    155.000000      0.000000      0.600000      1.000000   \n",
       "75%        1.000000    168.000000      1.000000      1.414977      2.000000   \n",
       "max        2.000000    202.000000      1.000000      4.000000      2.000000   \n",
       "\n",
       "                 ca          thal        target           sex  \n",
       "count  85958.000000  85958.000000  85958.000000  85958.000000  \n",
       "mean       0.457328      2.233672      0.607913      0.496301  \n",
       "std        0.699302      0.524252      0.488219      0.499989  \n",
       "min        0.000000      1.000000      0.000000      0.000000  \n",
       "25%        0.000000      2.000000      0.000000      0.000000  \n",
       "50%        0.000000      2.000000      1.000000      0.000000  \n",
       "75%        1.000000      3.000000      1.000000      1.000000  \n",
       "max        2.000000      3.000000      1.000000      1.000000  "
      ]
     },
     "execution_count": 98,
     "metadata": {},
     "output_type": "execute_result"
    }
   ],
   "source": [
    "df.describe()"
   ]
  },
  {
   "cell_type": "markdown",
   "metadata": {
    "slideshow": {
     "slide_type": "slide"
    }
   },
   "source": [
    "# count of target for every class"
   ]
  },
  {
   "cell_type": "code",
   "execution_count": 99,
   "metadata": {
    "slideshow": {
     "slide_type": "subslide"
    }
   },
   "outputs": [
    {
     "data": {
      "text/plain": [
       "<matplotlib.axes._subplots.AxesSubplot at 0x1ca1bc33808>"
      ]
     },
     "execution_count": 99,
     "metadata": {},
     "output_type": "execute_result"
    },
    {
     "data": {
      "image/png": "[encoded data removed]",
      "text/plain": [
       "<Figure size 720x720 with 1 Axes>"
      ]
     },
     "metadata": {},
     "output_type": "display_data"
    }
   ],
   "source": [
    "sns.countplot(x=\"target\",data=df)"
   ]
  },
  {
   "cell_type": "markdown",
   "metadata": {
    "slideshow": {
     "slide_type": "subslide"
    }
   },
   "source": [
    "# People without disease are almost twice as much as infected people, and this indicates the quality of health services"
   ]
  },
  {
   "cell_type": "markdown",
   "metadata": {
    "slideshow": {
     "slide_type": "slide"
    }
   },
   "source": [
    "# count of sex for every class\n"
   ]
  },
  {
   "cell_type": "code",
   "execution_count": 100,
   "metadata": {
    "slideshow": {
     "slide_type": "subslide"
    }
   },
   "outputs": [
    {
     "data": {
      "text/plain": [
       "<matplotlib.axes._subplots.AxesSubplot at 0x1ca11c19748>"
      ]
     },
     "execution_count": 100,
     "metadata": {},
     "output_type": "execute_result"
    },
    {
     "data": {
      "image/png": "[encoded data removed]",
      "text/plain": [
       "<Figure size 720x720 with 1 Axes>"
      ]
     },
     "metadata": {},
     "output_type": "display_data"
    }
   ],
   "source": [
    "sns.countplot(x=\"sex\",data=df)"
   ]
  },
  {
   "cell_type": "markdown",
   "metadata": {
    "slideshow": {
     "slide_type": "subslide"
    }
   },
   "source": [
    "# distribution sex according to target"
   ]
  },
  {
   "cell_type": "code",
   "execution_count": 101,
   "metadata": {
    "slideshow": {
     "slide_type": "subslide"
    }
   },
   "outputs": [
    {
     "data": {
      "text/plain": [
       "<matplotlib.axes._subplots.AxesSubplot at 0x1ca1c2d6688>"
      ]
     },
     "execution_count": 101,
     "metadata": {},
     "output_type": "execute_result"
    },
    {
     "data": {
      "image/png": "[encoded data removed]",
      "text/plain": [
       "<Figure size 720x720 with 1 Axes>"
      ]
     },
     "metadata": {},
     "output_type": "display_data"
    }
   ],
   "source": [
    "sns.countplot(x=\"sex\",data=df,hue=\"target\")"
   ]
  },
  {
   "cell_type": "markdown",
   "metadata": {
    "slideshow": {
     "slide_type": "subslide"
    }
   },
   "source": [
    "# Males with heart disease are nearly twice as likely as females"
   ]
  },
  {
   "cell_type": "markdown",
   "metadata": {
    "slideshow": {
     "slide_type": "slide"
    }
   },
   "source": [
    "# count of chest_pain for every class\n"
   ]
  },
  {
   "cell_type": "code",
   "execution_count": 102,
   "metadata": {
    "slideshow": {
     "slide_type": "subslide"
    }
   },
   "outputs": [
    {
     "data": {
      "text/plain": [
       "<matplotlib.axes._subplots.AxesSubplot at 0x1ca1c340488>"
      ]
     },
     "execution_count": 102,
     "metadata": {},
     "output_type": "execute_result"
    },
    {
     "data": {
      "image/png": "[encoded data removed]",
      "text/plain": [
       "<Figure size 720x720 with 1 Axes>"
      ]
     },
     "metadata": {},
     "output_type": "display_data"
    }
   ],
   "source": [
    "sns.countplot(x=\"cp\",data=df)"
   ]
  },
  {
   "cell_type": "markdown",
   "metadata": {
    "slideshow": {
     "slide_type": "subslide"
    }
   },
   "source": [
    "# The most common pain in chest pain is asymptomatic"
   ]
  },
  {
   "cell_type": "markdown",
   "metadata": {
    "slideshow": {
     "slide_type": "subslide"
    }
   },
   "source": [
    "# distribution chest_pain according to target"
   ]
  },
  {
   "cell_type": "code",
   "execution_count": 103,
   "metadata": {
    "slideshow": {
     "slide_type": "subslide"
    }
   },
   "outputs": [
    {
     "data": {
      "text/plain": [
       "<matplotlib.axes._subplots.AxesSubplot at 0x1ca1c63dc88>"
      ]
     },
     "execution_count": 103,
     "metadata": {},
     "output_type": "execute_result"
    },
    {
     "data": {
      "image/png": "[encoded data removed]",
      "text/plain": [
       "<Figure size 720x720 with 1 Axes>"
      ]
     },
     "metadata": {},
     "output_type": "display_data"
    }
   ],
   "source": [
    "sns.countplot(x=\"cp\",data=df,hue=\"target\")"
   ]
  },
  {
   "cell_type": "markdown",
   "metadata": {},
   "source": [
    "# chest pain with type asymptomatic case the higher rate of heat disease and \n",
    "# chest pain with type  typical angina case the less rate of heat disease"
   ]
  },
  {
   "cell_type": "markdown",
   "metadata": {
    "slideshow": {
     "slide_type": "slide"
    }
   },
   "source": [
    "# distribution age according to target"
   ]
  },
  {
   "cell_type": "code",
   "execution_count": 104,
   "metadata": {
    "slideshow": {
     "slide_type": "subslide"
    }
   },
   "outputs": [
    {
     "data": {
      "text/plain": [
       "<matplotlib.axes._subplots.AxesSubplot at 0x1ca1cecfd88>"
      ]
     },
     "execution_count": 104,
     "metadata": {},
     "output_type": "execute_result"
    },
    {
     "data": {
      "image/png": "[encoded data removed]",
      "text/plain": [
       "<Figure size 720x720 with 1 Axes>"
      ]
     },
     "metadata": {},
     "output_type": "display_data"
    }
   ],
   "source": [
    "sns.countplot(x=\"age\",data=df,hue=\"target\")"
   ]
  },
  {
   "cell_type": "markdown",
   "metadata": {
    "slideshow": {
     "slide_type": "subslide"
    }
   },
   "source": [
    "# The ages of people with heart disease range from 57 and 70"
   ]
  },
  {
   "cell_type": "markdown",
   "metadata": {
    "slideshow": {
     "slide_type": "subslide"
    }
   },
   "source": [
    "# distribution targer according to age and sex"
   ]
  },
  {
   "cell_type": "code",
   "execution_count": 105,
   "metadata": {
    "slideshow": {
     "slide_type": "subslide"
    }
   },
   "outputs": [
    {
     "data": {
      "text/plain": [
       "<seaborn.axisgrid.FacetGrid at 0x1ca1cd95f48>"
      ]
     },
     "execution_count": 105,
     "metadata": {},
     "output_type": "execute_result"
    },
    {
     "data": {
      "image/png": "[encoded data removed]",
      "text/plain": [
       "<Figure size 772.1x360 with 2 Axes>"
      ]
     },
     "metadata": {},
     "output_type": "display_data"
    }
   ],
   "source": [
    "sns.catplot(x=\"target\",data=df,hue=\"age\",kind=\"count\",col=\"sex\")"
   ]
  },
  {
   "cell_type": "markdown",
   "metadata": {
    "slideshow": {
     "slide_type": "subslide"
    }
   },
   "source": [
    "# We see that for females who are suffering from the disease are older than males."
   ]
  },
  {
   "cell_type": "markdown",
   "metadata": {
    "slideshow": {
     "slide_type": "slide"
    }
   },
   "source": [
    "# distribution Fasting Blood Sugar according to target"
   ]
  },
  {
   "cell_type": "code",
   "execution_count": 106,
   "metadata": {
    "slideshow": {
     "slide_type": "subslide"
    }
   },
   "outputs": [
    {
     "data": {
      "text/plain": [
       "<matplotlib.axes._subplots.AxesSubplot at 0x1ca1d1d26c8>"
      ]
     },
     "execution_count": 106,
     "metadata": {},
     "output_type": "execute_result"
    },
    {
     "data": {
      "image/png": "[encoded data removed]",
      "text/plain": [
       "<Figure size 720x720 with 1 Axes>"
      ]
     },
     "metadata": {},
     "output_type": "display_data"
    }
   ],
   "source": [
    "sns.countplot(x=\"fbs\",data=df,hue=\"target\")"
   ]
  },
  {
   "cell_type": "markdown",
   "metadata": {
    "slideshow": {
     "slide_type": "subslide"
    }
   },
   "source": [
    "# fbs might not be a strong feature differentiating between heart disease an non-disease patient"
   ]
  },
  {
   "cell_type": "markdown",
   "metadata": {
    "slideshow": {
     "slide_type": "slide"
    }
   },
   "source": [
    "# observation\n",
    "# Males are more susceptible to heart_disease than females\n",
    "# number of disease less than no disease\n",
    "# chest pain with type asymptomatic case the higher rate of heat disease\n",
    "# major people with age  between 50 and 63 with heart diseas\n",
    "# fbs might not be a strong feature differentiating between heart disease an non-disease patient"
   ]
  },
  {
   "cell_type": "code",
   "execution_count": null,
   "metadata": {},
   "outputs": [],
   "source": []
  }
 ],
 "metadata": {
  "celltoolbar": "Slideshow",
  "kernelspec": {
   "display_name": "Python 3",
   "language": "python",
   "name": "python3"
  },
  "language_info": {
   "codemirror_mode": {
    "name": "ipython",
    "version": 3
   },
   "file_extension": ".py",
   "mimetype": "text/x-python",
   "name": "python",
   "nbconvert_exporter": "python",
   "pygments_lexer": "ipython3",
   "version": "3.7.6"
  }
 },
 "nbformat": 4,
 "nbformat_minor": 4
}
